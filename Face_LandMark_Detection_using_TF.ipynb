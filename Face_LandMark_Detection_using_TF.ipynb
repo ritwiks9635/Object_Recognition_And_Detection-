{
  "cells": [
    {
      "cell_type": "markdown",
      "metadata": {
        "id": "view-in-github",
        "colab_type": "text"
      },
      "source": [
        "<a href=\"https://colab.research.google.com/github/ritwiks9635/CNN_Project_File/blob/main/Face_LandMark_Detection.ipynb\" target=\"_parent\"><img src=\"https://colab.research.google.com/assets/colab-badge.svg\" alt=\"Open In Colab\"/></a>"
      ]
    },
    {
      "cell_type": "markdown",
      "metadata": {
        "id": "1p176Ed6mROx"
      },
      "source": [
        "# **Face LandMark Detection**"
      ]
    },
    {
      "cell_type": "code",
      "source": [
        "! unzip /content/https:/www.kaggle.com/datasets/drgilermo/face-images-with-marked-landmark-points/face-images-with-marked-landmark-points.zip"
      ],
      "metadata": {
        "colab": {
          "base_uri": "https://localhost:8080/"
        },
        "id": "hGxY6kwdpi2M",
        "outputId": "d66d5873-b90c-4d31-8e5d-6eb0f0c2d909"
      },
      "execution_count": 2,
      "outputs": [
        {
          "output_type": "stream",
          "name": "stdout",
          "text": [
            "Archive:  /content/https:/www.kaggle.com/datasets/drgilermo/face-images-with-marked-landmark-points/face-images-with-marked-landmark-points.zip\n",
            "  inflating: face_images.npz         \n",
            "  inflating: facial_keypoints.csv    \n"
          ]
        }
      ]
    },
    {
      "cell_type": "code",
      "source": [
        "import numpy as np\n",
        "import pandas as pd\n",
        "import tensorflow as tf\n",
        "import matplotlib.pyplot as plt\n",
        "from  sklearn.model_selection import train_test_split"
      ],
      "metadata": {
        "id": "FvgKY8jMpzBm"
      },
      "execution_count": 3,
      "outputs": []
    },
    {
      "cell_type": "code",
      "source": [
        "feature = np.load(\"face_images.npz\")\n",
        "feature = feature.get(feature.files[0])\n",
        "feature = np.moveaxis(feature, -1, 0)\n",
        "feature = feature.reshape(feature.shape[0], feature.shape[1], feature.shape[2], 1)\n",
        "feature.shape"
      ],
      "metadata": {
        "colab": {
          "base_uri": "https://localhost:8080/"
        },
        "id": "xBqOiFOQqHpa",
        "outputId": "320c974b-ec30-44db-9b01-a3a644c47369"
      },
      "execution_count": 4,
      "outputs": [
        {
          "output_type": "execute_result",
          "data": {
            "text/plain": [
              "(7049, 96, 96, 1)"
            ]
          },
          "metadata": {},
          "execution_count": 4
        }
      ]
    },
    {
      "cell_type": "code",
      "source": [
        "face_keys = pd.read_csv(\"facial_keypoints.csv\")\n",
        "face_keys.head()"
      ],
      "metadata": {
        "colab": {
          "base_uri": "https://localhost:8080/",
          "height": 255
        },
        "id": "ZSCtp6j5rlXu",
        "outputId": "3fb963fa-01e4-4ce1-8e02-1db58819ba5b"
      },
      "execution_count": 5,
      "outputs": [
        {
          "output_type": "execute_result",
          "data": {
            "text/plain": [
              "   left_eye_center_x  left_eye_center_y  right_eye_center_x  \\\n",
              "0          66.033564          39.002274           30.227008   \n",
              "1          64.332936          34.970077           29.949277   \n",
              "2          65.057053          34.909642           30.903789   \n",
              "3          65.225739          37.261774           32.023096   \n",
              "4          66.725301          39.621261           32.244810   \n",
              "\n",
              "   right_eye_center_y  left_eye_inner_corner_x  left_eye_inner_corner_y  \\\n",
              "0           36.421678                59.582075                39.647423   \n",
              "1           33.448715                58.856170                35.274349   \n",
              "2           34.909642                59.412000                36.320968   \n",
              "3           37.261774                60.003339                39.127179   \n",
              "4           38.042032                58.565890                39.621261   \n",
              "\n",
              "   left_eye_outer_corner_x  left_eye_outer_corner_y  right_eye_inner_corner_x  \\\n",
              "0                73.130346                39.969997                 36.356571   \n",
              "1                70.722723                36.187166                 36.034723   \n",
              "2                70.984421                36.320968                 37.678105   \n",
              "3                72.314713                38.380967                 37.618643   \n",
              "4                72.515926                39.884466                 36.982380   \n",
              "\n",
              "   right_eye_inner_corner_y  ...  nose_tip_x  nose_tip_y  mouth_left_corner_x  \\\n",
              "0                 37.389402  ...   44.420571   57.066803            61.195308   \n",
              "1                 34.361532  ...   48.206298   55.660936            56.421447   \n",
              "2                 36.320968  ...   47.557263   53.538947            60.822947   \n",
              "3                 38.754115  ...   51.885078   54.166539            65.598887   \n",
              "4                 39.094852  ...   43.299534   64.889521            60.671411   \n",
              "\n",
              "   mouth_left_corner_y  mouth_right_corner_x  mouth_right_corner_y  \\\n",
              "0            79.970165             28.614496             77.388992   \n",
              "1            76.352000             35.122383             76.047660   \n",
              "2            73.014316             33.726316             72.732000   \n",
              "3            72.703722             37.245496             74.195478   \n",
              "4            77.523239             31.191755             76.997301   \n",
              "\n",
              "   mouth_center_top_lip_x  mouth_center_top_lip_y  mouth_center_bottom_lip_x  \\\n",
              "0               43.312602               72.935459                  43.130707   \n",
              "1               46.684596               70.266553                  45.467915   \n",
              "2               47.274947               70.191789                  47.274947   \n",
              "3               50.303165               70.091687                  51.561183   \n",
              "4               44.962748               73.707387                  44.227141   \n",
              "\n",
              "   mouth_center_bottom_lip_y  \n",
              "0                  84.485774  \n",
              "1                  85.480170  \n",
              "2                  78.659368  \n",
              "3                  78.268383  \n",
              "4                  86.871166  \n",
              "\n",
              "[5 rows x 30 columns]"
            ],
            "text/html": [
              "\n",
              "  <div id=\"df-da98c8da-d939-4bee-8cb0-45fcb4bee86c\" class=\"colab-df-container\">\n",
              "    <div>\n",
              "<style scoped>\n",
              "    .dataframe tbody tr th:only-of-type {\n",
              "        vertical-align: middle;\n",
              "    }\n",
              "\n",
              "    .dataframe tbody tr th {\n",
              "        vertical-align: top;\n",
              "    }\n",
              "\n",
              "    .dataframe thead th {\n",
              "        text-align: right;\n",
              "    }\n",
              "</style>\n",
              "<table border=\"1\" class=\"dataframe\">\n",
              "  <thead>\n",
              "    <tr style=\"text-align: right;\">\n",
              "      <th></th>\n",
              "      <th>left_eye_center_x</th>\n",
              "      <th>left_eye_center_y</th>\n",
              "      <th>right_eye_center_x</th>\n",
              "      <th>right_eye_center_y</th>\n",
              "      <th>left_eye_inner_corner_x</th>\n",
              "      <th>left_eye_inner_corner_y</th>\n",
              "      <th>left_eye_outer_corner_x</th>\n",
              "      <th>left_eye_outer_corner_y</th>\n",
              "      <th>right_eye_inner_corner_x</th>\n",
              "      <th>right_eye_inner_corner_y</th>\n",
              "      <th>...</th>\n",
              "      <th>nose_tip_x</th>\n",
              "      <th>nose_tip_y</th>\n",
              "      <th>mouth_left_corner_x</th>\n",
              "      <th>mouth_left_corner_y</th>\n",
              "      <th>mouth_right_corner_x</th>\n",
              "      <th>mouth_right_corner_y</th>\n",
              "      <th>mouth_center_top_lip_x</th>\n",
              "      <th>mouth_center_top_lip_y</th>\n",
              "      <th>mouth_center_bottom_lip_x</th>\n",
              "      <th>mouth_center_bottom_lip_y</th>\n",
              "    </tr>\n",
              "  </thead>\n",
              "  <tbody>\n",
              "    <tr>\n",
              "      <th>0</th>\n",
              "      <td>66.033564</td>\n",
              "      <td>39.002274</td>\n",
              "      <td>30.227008</td>\n",
              "      <td>36.421678</td>\n",
              "      <td>59.582075</td>\n",
              "      <td>39.647423</td>\n",
              "      <td>73.130346</td>\n",
              "      <td>39.969997</td>\n",
              "      <td>36.356571</td>\n",
              "      <td>37.389402</td>\n",
              "      <td>...</td>\n",
              "      <td>44.420571</td>\n",
              "      <td>57.066803</td>\n",
              "      <td>61.195308</td>\n",
              "      <td>79.970165</td>\n",
              "      <td>28.614496</td>\n",
              "      <td>77.388992</td>\n",
              "      <td>43.312602</td>\n",
              "      <td>72.935459</td>\n",
              "      <td>43.130707</td>\n",
              "      <td>84.485774</td>\n",
              "    </tr>\n",
              "    <tr>\n",
              "      <th>1</th>\n",
              "      <td>64.332936</td>\n",
              "      <td>34.970077</td>\n",
              "      <td>29.949277</td>\n",
              "      <td>33.448715</td>\n",
              "      <td>58.856170</td>\n",
              "      <td>35.274349</td>\n",
              "      <td>70.722723</td>\n",
              "      <td>36.187166</td>\n",
              "      <td>36.034723</td>\n",
              "      <td>34.361532</td>\n",
              "      <td>...</td>\n",
              "      <td>48.206298</td>\n",
              "      <td>55.660936</td>\n",
              "      <td>56.421447</td>\n",
              "      <td>76.352000</td>\n",
              "      <td>35.122383</td>\n",
              "      <td>76.047660</td>\n",
              "      <td>46.684596</td>\n",
              "      <td>70.266553</td>\n",
              "      <td>45.467915</td>\n",
              "      <td>85.480170</td>\n",
              "    </tr>\n",
              "    <tr>\n",
              "      <th>2</th>\n",
              "      <td>65.057053</td>\n",
              "      <td>34.909642</td>\n",
              "      <td>30.903789</td>\n",
              "      <td>34.909642</td>\n",
              "      <td>59.412000</td>\n",
              "      <td>36.320968</td>\n",
              "      <td>70.984421</td>\n",
              "      <td>36.320968</td>\n",
              "      <td>37.678105</td>\n",
              "      <td>36.320968</td>\n",
              "      <td>...</td>\n",
              "      <td>47.557263</td>\n",
              "      <td>53.538947</td>\n",
              "      <td>60.822947</td>\n",
              "      <td>73.014316</td>\n",
              "      <td>33.726316</td>\n",
              "      <td>72.732000</td>\n",
              "      <td>47.274947</td>\n",
              "      <td>70.191789</td>\n",
              "      <td>47.274947</td>\n",
              "      <td>78.659368</td>\n",
              "    </tr>\n",
              "    <tr>\n",
              "      <th>3</th>\n",
              "      <td>65.225739</td>\n",
              "      <td>37.261774</td>\n",
              "      <td>32.023096</td>\n",
              "      <td>37.261774</td>\n",
              "      <td>60.003339</td>\n",
              "      <td>39.127179</td>\n",
              "      <td>72.314713</td>\n",
              "      <td>38.380967</td>\n",
              "      <td>37.618643</td>\n",
              "      <td>38.754115</td>\n",
              "      <td>...</td>\n",
              "      <td>51.885078</td>\n",
              "      <td>54.166539</td>\n",
              "      <td>65.598887</td>\n",
              "      <td>72.703722</td>\n",
              "      <td>37.245496</td>\n",
              "      <td>74.195478</td>\n",
              "      <td>50.303165</td>\n",
              "      <td>70.091687</td>\n",
              "      <td>51.561183</td>\n",
              "      <td>78.268383</td>\n",
              "    </tr>\n",
              "    <tr>\n",
              "      <th>4</th>\n",
              "      <td>66.725301</td>\n",
              "      <td>39.621261</td>\n",
              "      <td>32.244810</td>\n",
              "      <td>38.042032</td>\n",
              "      <td>58.565890</td>\n",
              "      <td>39.621261</td>\n",
              "      <td>72.515926</td>\n",
              "      <td>39.884466</td>\n",
              "      <td>36.982380</td>\n",
              "      <td>39.094852</td>\n",
              "      <td>...</td>\n",
              "      <td>43.299534</td>\n",
              "      <td>64.889521</td>\n",
              "      <td>60.671411</td>\n",
              "      <td>77.523239</td>\n",
              "      <td>31.191755</td>\n",
              "      <td>76.997301</td>\n",
              "      <td>44.962748</td>\n",
              "      <td>73.707387</td>\n",
              "      <td>44.227141</td>\n",
              "      <td>86.871166</td>\n",
              "    </tr>\n",
              "  </tbody>\n",
              "</table>\n",
              "<p>5 rows × 30 columns</p>\n",
              "</div>\n",
              "    <div class=\"colab-df-buttons\">\n",
              "\n",
              "  <div class=\"colab-df-container\">\n",
              "    <button class=\"colab-df-convert\" onclick=\"convertToInteractive('df-da98c8da-d939-4bee-8cb0-45fcb4bee86c')\"\n",
              "            title=\"Convert this dataframe to an interactive table.\"\n",
              "            style=\"display:none;\">\n",
              "\n",
              "  <svg xmlns=\"http://www.w3.org/2000/svg\" height=\"24px\" viewBox=\"0 -960 960 960\">\n",
              "    <path d=\"M120-120v-720h720v720H120Zm60-500h600v-160H180v160Zm220 220h160v-160H400v160Zm0 220h160v-160H400v160ZM180-400h160v-160H180v160Zm440 0h160v-160H620v160ZM180-180h160v-160H180v160Zm440 0h160v-160H620v160Z\"/>\n",
              "  </svg>\n",
              "    </button>\n",
              "\n",
              "  <style>\n",
              "    .colab-df-container {\n",
              "      display:flex;\n",
              "      gap: 12px;\n",
              "    }\n",
              "\n",
              "    .colab-df-convert {\n",
              "      background-color: #E8F0FE;\n",
              "      border: none;\n",
              "      border-radius: 50%;\n",
              "      cursor: pointer;\n",
              "      display: none;\n",
              "      fill: #1967D2;\n",
              "      height: 32px;\n",
              "      padding: 0 0 0 0;\n",
              "      width: 32px;\n",
              "    }\n",
              "\n",
              "    .colab-df-convert:hover {\n",
              "      background-color: #E2EBFA;\n",
              "      box-shadow: 0px 1px 2px rgba(60, 64, 67, 0.3), 0px 1px 3px 1px rgba(60, 64, 67, 0.15);\n",
              "      fill: #174EA6;\n",
              "    }\n",
              "\n",
              "    .colab-df-buttons div {\n",
              "      margin-bottom: 4px;\n",
              "    }\n",
              "\n",
              "    [theme=dark] .colab-df-convert {\n",
              "      background-color: #3B4455;\n",
              "      fill: #D2E3FC;\n",
              "    }\n",
              "\n",
              "    [theme=dark] .colab-df-convert:hover {\n",
              "      background-color: #434B5C;\n",
              "      box-shadow: 0px 1px 3px 1px rgba(0, 0, 0, 0.15);\n",
              "      filter: drop-shadow(0px 1px 2px rgba(0, 0, 0, 0.3));\n",
              "      fill: #FFFFFF;\n",
              "    }\n",
              "  </style>\n",
              "\n",
              "    <script>\n",
              "      const buttonEl =\n",
              "        document.querySelector('#df-da98c8da-d939-4bee-8cb0-45fcb4bee86c button.colab-df-convert');\n",
              "      buttonEl.style.display =\n",
              "        google.colab.kernel.accessAllowed ? 'block' : 'none';\n",
              "\n",
              "      async function convertToInteractive(key) {\n",
              "        const element = document.querySelector('#df-da98c8da-d939-4bee-8cb0-45fcb4bee86c');\n",
              "        const dataTable =\n",
              "          await google.colab.kernel.invokeFunction('convertToInteractive',\n",
              "                                                    [key], {});\n",
              "        if (!dataTable) return;\n",
              "\n",
              "        const docLinkHtml = 'Like what you see? Visit the ' +\n",
              "          '<a target=\"_blank\" href=https://colab.research.google.com/notebooks/data_table.ipynb>data table notebook</a>'\n",
              "          + ' to learn more about interactive tables.';\n",
              "        element.innerHTML = '';\n",
              "        dataTable['output_type'] = 'display_data';\n",
              "        await google.colab.output.renderOutput(dataTable, element);\n",
              "        const docLink = document.createElement('div');\n",
              "        docLink.innerHTML = docLinkHtml;\n",
              "        element.appendChild(docLink);\n",
              "      }\n",
              "    </script>\n",
              "  </div>\n",
              "\n",
              "\n",
              "<div id=\"df-7373e432-2baa-4905-8fe0-c4c01870f357\">\n",
              "  <button class=\"colab-df-quickchart\" onclick=\"quickchart('df-7373e432-2baa-4905-8fe0-c4c01870f357')\"\n",
              "            title=\"Suggest charts.\"\n",
              "            style=\"display:none;\">\n",
              "\n",
              "<svg xmlns=\"http://www.w3.org/2000/svg\" height=\"24px\"viewBox=\"0 0 24 24\"\n",
              "     width=\"24px\">\n",
              "    <g>\n",
              "        <path d=\"M19 3H5c-1.1 0-2 .9-2 2v14c0 1.1.9 2 2 2h14c1.1 0 2-.9 2-2V5c0-1.1-.9-2-2-2zM9 17H7v-7h2v7zm4 0h-2V7h2v10zm4 0h-2v-4h2v4z\"/>\n",
              "    </g>\n",
              "</svg>\n",
              "  </button>\n",
              "\n",
              "<style>\n",
              "  .colab-df-quickchart {\n",
              "      --bg-color: #E8F0FE;\n",
              "      --fill-color: #1967D2;\n",
              "      --hover-bg-color: #E2EBFA;\n",
              "      --hover-fill-color: #174EA6;\n",
              "      --disabled-fill-color: #AAA;\n",
              "      --disabled-bg-color: #DDD;\n",
              "  }\n",
              "\n",
              "  [theme=dark] .colab-df-quickchart {\n",
              "      --bg-color: #3B4455;\n",
              "      --fill-color: #D2E3FC;\n",
              "      --hover-bg-color: #434B5C;\n",
              "      --hover-fill-color: #FFFFFF;\n",
              "      --disabled-bg-color: #3B4455;\n",
              "      --disabled-fill-color: #666;\n",
              "  }\n",
              "\n",
              "  .colab-df-quickchart {\n",
              "    background-color: var(--bg-color);\n",
              "    border: none;\n",
              "    border-radius: 50%;\n",
              "    cursor: pointer;\n",
              "    display: none;\n",
              "    fill: var(--fill-color);\n",
              "    height: 32px;\n",
              "    padding: 0;\n",
              "    width: 32px;\n",
              "  }\n",
              "\n",
              "  .colab-df-quickchart:hover {\n",
              "    background-color: var(--hover-bg-color);\n",
              "    box-shadow: 0 1px 2px rgba(60, 64, 67, 0.3), 0 1px 3px 1px rgba(60, 64, 67, 0.15);\n",
              "    fill: var(--button-hover-fill-color);\n",
              "  }\n",
              "\n",
              "  .colab-df-quickchart-complete:disabled,\n",
              "  .colab-df-quickchart-complete:disabled:hover {\n",
              "    background-color: var(--disabled-bg-color);\n",
              "    fill: var(--disabled-fill-color);\n",
              "    box-shadow: none;\n",
              "  }\n",
              "\n",
              "  .colab-df-spinner {\n",
              "    border: 2px solid var(--fill-color);\n",
              "    border-color: transparent;\n",
              "    border-bottom-color: var(--fill-color);\n",
              "    animation:\n",
              "      spin 1s steps(1) infinite;\n",
              "  }\n",
              "\n",
              "  @keyframes spin {\n",
              "    0% {\n",
              "      border-color: transparent;\n",
              "      border-bottom-color: var(--fill-color);\n",
              "      border-left-color: var(--fill-color);\n",
              "    }\n",
              "    20% {\n",
              "      border-color: transparent;\n",
              "      border-left-color: var(--fill-color);\n",
              "      border-top-color: var(--fill-color);\n",
              "    }\n",
              "    30% {\n",
              "      border-color: transparent;\n",
              "      border-left-color: var(--fill-color);\n",
              "      border-top-color: var(--fill-color);\n",
              "      border-right-color: var(--fill-color);\n",
              "    }\n",
              "    40% {\n",
              "      border-color: transparent;\n",
              "      border-right-color: var(--fill-color);\n",
              "      border-top-color: var(--fill-color);\n",
              "    }\n",
              "    60% {\n",
              "      border-color: transparent;\n",
              "      border-right-color: var(--fill-color);\n",
              "    }\n",
              "    80% {\n",
              "      border-color: transparent;\n",
              "      border-right-color: var(--fill-color);\n",
              "      border-bottom-color: var(--fill-color);\n",
              "    }\n",
              "    90% {\n",
              "      border-color: transparent;\n",
              "      border-bottom-color: var(--fill-color);\n",
              "    }\n",
              "  }\n",
              "</style>\n",
              "\n",
              "  <script>\n",
              "    async function quickchart(key) {\n",
              "      const quickchartButtonEl =\n",
              "        document.querySelector('#' + key + ' button');\n",
              "      quickchartButtonEl.disabled = true;  // To prevent multiple clicks.\n",
              "      quickchartButtonEl.classList.add('colab-df-spinner');\n",
              "      try {\n",
              "        const charts = await google.colab.kernel.invokeFunction(\n",
              "            'suggestCharts', [key], {});\n",
              "      } catch (error) {\n",
              "        console.error('Error during call to suggestCharts:', error);\n",
              "      }\n",
              "      quickchartButtonEl.classList.remove('colab-df-spinner');\n",
              "      quickchartButtonEl.classList.add('colab-df-quickchart-complete');\n",
              "    }\n",
              "    (() => {\n",
              "      let quickchartButtonEl =\n",
              "        document.querySelector('#df-7373e432-2baa-4905-8fe0-c4c01870f357 button');\n",
              "      quickchartButtonEl.style.display =\n",
              "        google.colab.kernel.accessAllowed ? 'block' : 'none';\n",
              "    })();\n",
              "  </script>\n",
              "</div>\n",
              "    </div>\n",
              "  </div>\n"
            ]
          },
          "metadata": {},
          "execution_count": 5
        }
      ]
    },
    {
      "cell_type": "code",
      "source": [
        "face_keys.isnull().sum()"
      ],
      "metadata": {
        "colab": {
          "base_uri": "https://localhost:8080/"
        },
        "id": "p-RBCrd6sllH",
        "outputId": "ed4612d4-7191-4a72-94e0-d68741d0ddcd"
      },
      "execution_count": 6,
      "outputs": [
        {
          "output_type": "execute_result",
          "data": {
            "text/plain": [
              "left_eye_center_x              10\n",
              "left_eye_center_y              10\n",
              "right_eye_center_x             13\n",
              "right_eye_center_y             13\n",
              "left_eye_inner_corner_x      4778\n",
              "left_eye_inner_corner_y      4778\n",
              "left_eye_outer_corner_x      4782\n",
              "left_eye_outer_corner_y      4782\n",
              "right_eye_inner_corner_x     4781\n",
              "right_eye_inner_corner_y     4781\n",
              "right_eye_outer_corner_x     4781\n",
              "right_eye_outer_corner_y     4781\n",
              "left_eyebrow_inner_end_x     4779\n",
              "left_eyebrow_inner_end_y     4779\n",
              "left_eyebrow_outer_end_x     4824\n",
              "left_eyebrow_outer_end_y     4824\n",
              "right_eyebrow_inner_end_x    4779\n",
              "right_eyebrow_inner_end_y    4779\n",
              "right_eyebrow_outer_end_x    4813\n",
              "right_eyebrow_outer_end_y    4813\n",
              "nose_tip_x                      0\n",
              "nose_tip_y                      0\n",
              "mouth_left_corner_x          4780\n",
              "mouth_left_corner_y          4780\n",
              "mouth_right_corner_x         4779\n",
              "mouth_right_corner_y         4779\n",
              "mouth_center_top_lip_x       4774\n",
              "mouth_center_top_lip_y       4774\n",
              "mouth_center_bottom_lip_x      33\n",
              "mouth_center_bottom_lip_y      33\n",
              "dtype: int64"
            ]
          },
          "metadata": {},
          "execution_count": 6
        }
      ]
    },
    {
      "cell_type": "code",
      "source": [
        "face_keys.fillna(0, inplace=True)"
      ],
      "metadata": {
        "id": "JVcPNJctsz8E"
      },
      "execution_count": 7,
      "outputs": []
    },
    {
      "cell_type": "code",
      "source": [
        "face_keys.isnull().sum()"
      ],
      "metadata": {
        "colab": {
          "base_uri": "https://localhost:8080/"
        },
        "id": "THW6DFB4tpkK",
        "outputId": "f7bf7432-6d67-426d-c884-35b136351b8a"
      },
      "execution_count": 8,
      "outputs": [
        {
          "output_type": "execute_result",
          "data": {
            "text/plain": [
              "left_eye_center_x            0\n",
              "left_eye_center_y            0\n",
              "right_eye_center_x           0\n",
              "right_eye_center_y           0\n",
              "left_eye_inner_corner_x      0\n",
              "left_eye_inner_corner_y      0\n",
              "left_eye_outer_corner_x      0\n",
              "left_eye_outer_corner_y      0\n",
              "right_eye_inner_corner_x     0\n",
              "right_eye_inner_corner_y     0\n",
              "right_eye_outer_corner_x     0\n",
              "right_eye_outer_corner_y     0\n",
              "left_eyebrow_inner_end_x     0\n",
              "left_eyebrow_inner_end_y     0\n",
              "left_eyebrow_outer_end_x     0\n",
              "left_eyebrow_outer_end_y     0\n",
              "right_eyebrow_inner_end_x    0\n",
              "right_eyebrow_inner_end_y    0\n",
              "right_eyebrow_outer_end_x    0\n",
              "right_eyebrow_outer_end_y    0\n",
              "nose_tip_x                   0\n",
              "nose_tip_y                   0\n",
              "mouth_left_corner_x          0\n",
              "mouth_left_corner_y          0\n",
              "mouth_right_corner_x         0\n",
              "mouth_right_corner_y         0\n",
              "mouth_center_top_lip_x       0\n",
              "mouth_center_top_lip_y       0\n",
              "mouth_center_bottom_lip_x    0\n",
              "mouth_center_bottom_lip_y    0\n",
              "dtype: int64"
            ]
          },
          "metadata": {},
          "execution_count": 8
        }
      ]
    },
    {
      "cell_type": "code",
      "source": [
        "new_feature = feature[face_keys.index.values, :, :, :]\n",
        "new_feature = new_feature/255.0"
      ],
      "metadata": {
        "id": "0yNYGRqbt-Sx"
      },
      "execution_count": 9,
      "outputs": []
    },
    {
      "cell_type": "code",
      "source": [
        "face_keys.reset_index(inplace=True,  drop = True)"
      ],
      "metadata": {
        "id": "42DqSTXvyN0r"
      },
      "execution_count": 10,
      "outputs": []
    },
    {
      "cell_type": "code",
      "source": [
        "def plt_img_with_lmrk(img_array, img_lmrk, index):\n",
        "  plt.imshow(img_array[index, :, :, 0], cmap = \"gray\")\n",
        "  plt.scatter(img_lmrk.iloc[index][0: -1: 2], img_lmrk.iloc[index][1: : 2], c = 'y')\n",
        "  plt.show()"
      ],
      "metadata": {
        "id": "-1TVzZWwvtAe"
      },
      "execution_count": 11,
      "outputs": []
    },
    {
      "cell_type": "code",
      "source": [
        "plt_img_with_lmrk(new_feature, face_keys, 10)"
      ],
      "metadata": {
        "colab": {
          "base_uri": "https://localhost:8080/",
          "height": 341
        },
        "id": "d39aOs4SyER8",
        "outputId": "db4f1ad5-c055-4571-95f7-194dce19624d"
      },
      "execution_count": 12,
      "outputs": [
        {
          "output_type": "display_data",
          "data": {
            "text/plain": [
              "<Figure size 640x480 with 1 Axes>"
            ],
            "image/png": "[encoded data removed]"
          },
          "metadata": {}
        }
      ]
    },
    {
      "cell_type": "code",
      "source": [
        "x_train, x_test,  y_train, y_test = train_test_split(new_feature, face_keys, test_size = 0.2)"
      ],
      "metadata": {
        "id": "TZ6dIMrRyxQ0"
      },
      "execution_count": 13,
      "outputs": []
    },
    {
      "cell_type": "code",
      "source": [
        "print(f\"x_train shape is :: {x_train.shape}, x_test shape is :: {x_test.shape}\")\n",
        "print(f\"y_train shape is :: {y_train.shape}, y_test shape is :: {y_test.shape}\")"
      ],
      "metadata": {
        "colab": {
          "base_uri": "https://localhost:8080/"
        },
        "id": "1lXDMO6V1Lp_",
        "outputId": "a62d4a7c-d658-418c-840d-dc8acf52d906"
      },
      "execution_count": 14,
      "outputs": [
        {
          "output_type": "stream",
          "name": "stdout",
          "text": [
            "x_train shape is :: (5639, 96, 96, 1), x_test shape is :: (1410, 96, 96, 1)\n",
            "y_train shape is :: (5639, 30), y_test shape is :: (1410, 30)\n"
          ]
        }
      ]
    },
    {
      "cell_type": "code",
      "source": [
        "from tqdm.keras import TqdmCallback\n",
        "from tensorflow.keras.models import Sequential\n",
        "from tensorflow.keras.layers import Input, Conv2D, MaxPooling2D, Flatten, Dense, Dropout, LeakyReLU, BatchNormalization\n",
        "from tensorflow.keras.initializers import glorot_uniform\n",
        "from tensorflow.keras.callbacks import ModelCheckpoint\n",
        "from tensorflow.keras.optimizers import SGD, Adam"
      ],
      "metadata": {
        "id": "9d2D9G4b11cg"
      },
      "execution_count": 15,
      "outputs": []
    },
    {
      "cell_type": "code",
      "source": [
        "model = Sequential()\n",
        "model.add(Input(shape = (96, 96, 1)))\n",
        "\n",
        "model.add(BatchNormalization())\n",
        "model.add(Conv2D(32, (3,3), padding = \"same\", kernel_initializer = glorot_uniform()))\n",
        "model.add(LeakyReLU(alpha = 0.1))\n",
        "model.add(MaxPooling2D(pool_size = (2,2)))\n",
        "model.add(Dropout(0.2))\n",
        "\n",
        "model.add(BatchNormalization())\n",
        "model.add(Conv2D(64, (3,3), padding = \"same\", kernel_initializer = glorot_uniform()))\n",
        "model.add(LeakyReLU(alpha = 0.1))\n",
        "model.add(MaxPooling2D(pool_size = (2,2)))\n",
        "model.add(Dropout(0.2))\n",
        "\n",
        "model.add(BatchNormalization())\n",
        "model.add(Conv2D(128, (3,3), padding = \"same\", kernel_initializer = glorot_uniform()))\n",
        "model.add(LeakyReLU(alpha = 0.1))\n",
        "model.add(MaxPooling2D(pool_size = (2,2)))\n",
        "model.add(Dropout(0.2))\n",
        "\n",
        "model.add(Flatten())\n",
        "model.add(Dense(256, kernel_initializer = glorot_uniform()))\n",
        "model.add(LeakyReLU(alpha = 0.1))\n",
        "model.add(Dropout(0.5))\n",
        "\n",
        "model.add(Dense(64, kernel_initializer = glorot_uniform()))\n",
        "model.add(LeakyReLU(alpha = 0))\n",
        "\n",
        "model.add(Dense(30, kernel_initializer = glorot_uniform()))"
      ],
      "metadata": {
        "id": "_61QoS5w6jqO"
      },
      "execution_count": 18,
      "outputs": []
    },
    {
      "cell_type": "code",
      "source": [
        "model.summary()"
      ],
      "metadata": {
        "colab": {
          "base_uri": "https://localhost:8080/"
        },
        "id": "vk2anmAbkZ-j",
        "outputId": "58e977ca-e1f0-4b46-b947-0288d04bd9b5"
      },
      "execution_count": 19,
      "outputs": [
        {
          "output_type": "stream",
          "name": "stdout",
          "text": [
            "Model: \"sequential\"\n",
            "_________________________________________________________________\n",
            " Layer (type)                Output Shape              Param #   \n",
            "=================================================================\n",
            " batch_normalization (Batch  (None, 96, 96, 1)         4         \n",
            " Normalization)                                                  \n",
            "                                                                 \n",
            " conv2d (Conv2D)             (None, 96, 96, 32)        320       \n",
            "                                                                 \n",
            " leaky_re_lu (LeakyReLU)     (None, 96, 96, 32)        0         \n",
            "                                                                 \n",
            " max_pooling2d (MaxPooling2  (None, 48, 48, 32)        0         \n",
            " D)                                                              \n",
            "                                                                 \n",
            " dropout (Dropout)           (None, 48, 48, 32)        0         \n",
            "                                                                 \n",
            " batch_normalization_1 (Bat  (None, 48, 48, 32)        128       \n",
            " chNormalization)                                                \n",
            "                                                                 \n",
            " conv2d_1 (Conv2D)           (None, 48, 48, 64)        18496     \n",
            "                                                                 \n",
            " leaky_re_lu_1 (LeakyReLU)   (None, 48, 48, 64)        0         \n",
            "                                                                 \n",
            " max_pooling2d_1 (MaxPoolin  (None, 24, 24, 64)        0         \n",
            " g2D)                                                            \n",
            "                                                                 \n",
            " dropout_1 (Dropout)         (None, 24, 24, 64)        0         \n",
            "                                                                 \n",
            " batch_normalization_2 (Bat  (None, 24, 24, 64)        256       \n",
            " chNormalization)                                                \n",
            "                                                                 \n",
            " conv2d_2 (Conv2D)           (None, 24, 24, 128)       73856     \n",
            "                                                                 \n",
            " leaky_re_lu_2 (LeakyReLU)   (None, 24, 24, 128)       0         \n",
            "                                                                 \n",
            " max_pooling2d_2 (MaxPoolin  (None, 12, 12, 128)       0         \n",
            " g2D)                                                            \n",
            "                                                                 \n",
            " dropout_2 (Dropout)         (None, 12, 12, 128)       0         \n",
            "                                                                 \n",
            " flatten (Flatten)           (None, 18432)             0         \n",
            "                                                                 \n",
            " dense (Dense)               (None, 256)               4718848   \n",
            "                                                                 \n",
            " leaky_re_lu_3 (LeakyReLU)   (None, 256)               0         \n",
            "                                                                 \n",
            " dropout_3 (Dropout)         (None, 256)               0         \n",
            "                                                                 \n",
            " dense_1 (Dense)             (None, 64)                16448     \n",
            "                                                                 \n",
            " leaky_re_lu_4 (LeakyReLU)   (None, 64)                0         \n",
            "                                                                 \n",
            " dense_2 (Dense)             (None, 30)                1950      \n",
            "                                                                 \n",
            "=================================================================\n",
            "Total params: 4830306 (18.43 MB)\n",
            "Trainable params: 4830112 (18.43 MB)\n",
            "Non-trainable params: 194 (776.00 Byte)\n",
            "_________________________________________________________________\n"
          ]
        }
      ]
    },
    {
      "cell_type": "code",
      "source": [
        "model.compile(optimizer = Adam(), loss = \"mean_squared_error\", metrics = [\"mean_squared_error\"])"
      ],
      "metadata": {
        "id": "AgexmGvDkgz-"
      },
      "execution_count": 21,
      "outputs": []
    },
    {
      "cell_type": "code",
      "source": [
        "history = model.fit(x_train, y_train,\n",
        "                    batch_size = 100,\n",
        "                    epochs = 150,\n",
        "                    validation_data = (x_test, y_test),\n",
        "                    shuffle = True,\n",
        "                    verbose = 1)"
      ],
      "metadata": {
        "colab": {
          "base_uri": "https://localhost:8080/"
        },
        "id": "xRf5soA9mMEe",
        "outputId": "d416cc77-78ca-4b67-ae85-5ed4d9828f94"
      },
      "execution_count": 22,
      "outputs": [
        {
          "output_type": "stream",
          "name": "stdout",
          "text": [
            "Epoch 1/150\n",
            "57/57 [==============================] - 19s 74ms/step - loss: 505.3462 - mean_squared_error: 505.3462 - val_loss: 937.8896 - val_mean_squared_error: 937.8896\n",
            "Epoch 2/150\n",
            "57/57 [==============================] - 3s 58ms/step - loss: 278.5150 - mean_squared_error: 278.5150 - val_loss: 854.0444 - val_mean_squared_error: 854.0444\n",
            "Epoch 3/150\n",
            "57/57 [==============================] - 3s 57ms/step - loss: 215.3924 - mean_squared_error: 215.3924 - val_loss: 805.6788 - val_mean_squared_error: 805.6788\n",
            "Epoch 4/150\n",
            "57/57 [==============================] - 3s 54ms/step - loss: 194.8248 - mean_squared_error: 194.8248 - val_loss: 749.8736 - val_mean_squared_error: 749.8736\n",
            "Epoch 5/150\n",
            "57/57 [==============================] - 3s 58ms/step - loss: 170.1615 - mean_squared_error: 170.1615 - val_loss: 744.4100 - val_mean_squared_error: 744.4100\n",
            "Epoch 6/150\n",
            "57/57 [==============================] - 3s 57ms/step - loss: 156.5052 - mean_squared_error: 156.5052 - val_loss: 677.5893 - val_mean_squared_error: 677.5893\n",
            "Epoch 7/150\n",
            "57/57 [==============================] - 3s 56ms/step - loss: 152.2548 - mean_squared_error: 152.2548 - val_loss: 614.2196 - val_mean_squared_error: 614.2196\n",
            "Epoch 8/150\n",
            "57/57 [==============================] - 3s 54ms/step - loss: 131.0400 - mean_squared_error: 131.0401 - val_loss: 597.0041 - val_mean_squared_error: 597.0041\n",
            "Epoch 9/150\n",
            "57/57 [==============================] - 3s 57ms/step - loss: 115.7292 - mean_squared_error: 115.7292 - val_loss: 404.6987 - val_mean_squared_error: 404.6987\n",
            "Epoch 10/150\n",
            "57/57 [==============================] - 3s 56ms/step - loss: 110.4713 - mean_squared_error: 110.4713 - val_loss: 393.2386 - val_mean_squared_error: 393.2386\n",
            "Epoch 11/150\n",
            "57/57 [==============================] - 3s 54ms/step - loss: 105.8914 - mean_squared_error: 105.8914 - val_loss: 279.2874 - val_mean_squared_error: 279.2874\n",
            "Epoch 12/150\n",
            "57/57 [==============================] - 3s 57ms/step - loss: 92.2391 - mean_squared_error: 92.2391 - val_loss: 248.2292 - val_mean_squared_error: 248.2292\n",
            "Epoch 13/150\n",
            "57/57 [==============================] - 3s 60ms/step - loss: 81.2362 - mean_squared_error: 81.2362 - val_loss: 138.1680 - val_mean_squared_error: 138.1680\n",
            "Epoch 14/150\n",
            "57/57 [==============================] - 3s 55ms/step - loss: 72.8458 - mean_squared_error: 72.8458 - val_loss: 135.8293 - val_mean_squared_error: 135.8293\n",
            "Epoch 15/150\n",
            "57/57 [==============================] - 3s 57ms/step - loss: 67.9937 - mean_squared_error: 67.9937 - val_loss: 139.9242 - val_mean_squared_error: 139.9242\n",
            "Epoch 16/150\n",
            "57/57 [==============================] - 3s 57ms/step - loss: 63.9749 - mean_squared_error: 63.9749 - val_loss: 123.8132 - val_mean_squared_error: 123.8132\n",
            "Epoch 17/150\n",
            "57/57 [==============================] - 3s 57ms/step - loss: 59.0475 - mean_squared_error: 59.0475 - val_loss: 133.4076 - val_mean_squared_error: 133.4076\n",
            "Epoch 18/150\n",
            "57/57 [==============================] - 3s 57ms/step - loss: 55.4219 - mean_squared_error: 55.4219 - val_loss: 112.5638 - val_mean_squared_error: 112.5638\n",
            "Epoch 19/150\n",
            "57/57 [==============================] - 3s 55ms/step - loss: 51.0861 - mean_squared_error: 51.0861 - val_loss: 135.6222 - val_mean_squared_error: 135.6222\n",
            "Epoch 20/150\n",
            "57/57 [==============================] - 3s 58ms/step - loss: 44.5169 - mean_squared_error: 44.5169 - val_loss: 165.2288 - val_mean_squared_error: 165.2288\n",
            "Epoch 21/150\n",
            "57/57 [==============================] - 3s 55ms/step - loss: 43.7049 - mean_squared_error: 43.7049 - val_loss: 123.4607 - val_mean_squared_error: 123.4607\n",
            "Epoch 22/150\n",
            "57/57 [==============================] - 3s 54ms/step - loss: 40.5549 - mean_squared_error: 40.5549 - val_loss: 121.6211 - val_mean_squared_error: 121.6211\n",
            "Epoch 23/150\n",
            "57/57 [==============================] - 3s 57ms/step - loss: 37.3219 - mean_squared_error: 37.3219 - val_loss: 131.8954 - val_mean_squared_error: 131.8954\n",
            "Epoch 24/150\n",
            "57/57 [==============================] - 3s 58ms/step - loss: 39.9289 - mean_squared_error: 39.9289 - val_loss: 131.2983 - val_mean_squared_error: 131.2983\n",
            "Epoch 25/150\n",
            "57/57 [==============================] - 3s 57ms/step - loss: 35.7291 - mean_squared_error: 35.7291 - val_loss: 115.2455 - val_mean_squared_error: 115.2455\n",
            "Epoch 26/150\n",
            "57/57 [==============================] - 3s 57ms/step - loss: 34.8893 - mean_squared_error: 34.8893 - val_loss: 119.2565 - val_mean_squared_error: 119.2565\n",
            "Epoch 27/150\n",
            "57/57 [==============================] - 3s 55ms/step - loss: 35.3351 - mean_squared_error: 35.3351 - val_loss: 139.0042 - val_mean_squared_error: 139.0042\n",
            "Epoch 28/150\n",
            "57/57 [==============================] - 4s 62ms/step - loss: 34.5720 - mean_squared_error: 34.5720 - val_loss: 119.4501 - val_mean_squared_error: 119.4501\n",
            "Epoch 29/150\n",
            "57/57 [==============================] - 3s 56ms/step - loss: 34.2777 - mean_squared_error: 34.2777 - val_loss: 127.8669 - val_mean_squared_error: 127.8669\n",
            "Epoch 30/150\n",
            "57/57 [==============================] - 3s 57ms/step - loss: 34.6251 - mean_squared_error: 34.6251 - val_loss: 130.5053 - val_mean_squared_error: 130.5053\n",
            "Epoch 31/150\n",
            "57/57 [==============================] - 3s 55ms/step - loss: 35.8573 - mean_squared_error: 35.8573 - val_loss: 123.9850 - val_mean_squared_error: 123.9850\n",
            "Epoch 32/150\n",
            "57/57 [==============================] - 3s 57ms/step - loss: 31.6235 - mean_squared_error: 31.6235 - val_loss: 139.3789 - val_mean_squared_error: 139.3789\n",
            "Epoch 33/150\n",
            "57/57 [==============================] - 3s 58ms/step - loss: 28.3478 - mean_squared_error: 28.3478 - val_loss: 131.3295 - val_mean_squared_error: 131.3295\n",
            "Epoch 34/150\n",
            "57/57 [==============================] - 3s 55ms/step - loss: 29.3804 - mean_squared_error: 29.3804 - val_loss: 127.1065 - val_mean_squared_error: 127.1065\n",
            "Epoch 35/150\n",
            "57/57 [==============================] - 3s 58ms/step - loss: 31.1923 - mean_squared_error: 31.1923 - val_loss: 126.1242 - val_mean_squared_error: 126.1241\n",
            "Epoch 36/150\n",
            "57/57 [==============================] - 3s 57ms/step - loss: 31.4095 - mean_squared_error: 31.4095 - val_loss: 127.7202 - val_mean_squared_error: 127.7202\n",
            "Epoch 37/150\n",
            "57/57 [==============================] - 3s 58ms/step - loss: 27.6478 - mean_squared_error: 27.6478 - val_loss: 134.6235 - val_mean_squared_error: 134.6235\n",
            "Epoch 38/150\n",
            "57/57 [==============================] - 3s 58ms/step - loss: 29.9014 - mean_squared_error: 29.9014 - val_loss: 142.6453 - val_mean_squared_error: 142.6453\n",
            "Epoch 39/150\n",
            "57/57 [==============================] - 3s 58ms/step - loss: 28.4340 - mean_squared_error: 28.4340 - val_loss: 123.1736 - val_mean_squared_error: 123.1736\n",
            "Epoch 40/150\n",
            "57/57 [==============================] - 3s 56ms/step - loss: 27.9269 - mean_squared_error: 27.9269 - val_loss: 141.1286 - val_mean_squared_error: 141.1286\n",
            "Epoch 41/150\n",
            "57/57 [==============================] - 3s 56ms/step - loss: 28.2912 - mean_squared_error: 28.2912 - val_loss: 131.8219 - val_mean_squared_error: 131.8219\n",
            "Epoch 42/150\n",
            "57/57 [==============================] - 3s 58ms/step - loss: 26.6795 - mean_squared_error: 26.6795 - val_loss: 124.6443 - val_mean_squared_error: 124.6443\n",
            "Epoch 43/150\n",
            "57/57 [==============================] - 3s 57ms/step - loss: 26.1087 - mean_squared_error: 26.1087 - val_loss: 125.9640 - val_mean_squared_error: 125.9640\n",
            "Epoch 44/150\n",
            "57/57 [==============================] - 3s 59ms/step - loss: 24.6255 - mean_squared_error: 24.6255 - val_loss: 118.4099 - val_mean_squared_error: 118.4099\n",
            "Epoch 45/150\n",
            "57/57 [==============================] - 3s 58ms/step - loss: 26.0551 - mean_squared_error: 26.0551 - val_loss: 117.3164 - val_mean_squared_error: 117.3164\n",
            "Epoch 46/150\n",
            "57/57 [==============================] - 3s 58ms/step - loss: 24.5318 - mean_squared_error: 24.5318 - val_loss: 116.2930 - val_mean_squared_error: 116.2930\n",
            "Epoch 47/150\n",
            "57/57 [==============================] - 3s 60ms/step - loss: 23.6337 - mean_squared_error: 23.6337 - val_loss: 140.3974 - val_mean_squared_error: 140.3974\n",
            "Epoch 48/150\n",
            "57/57 [==============================] - 3s 57ms/step - loss: 24.6772 - mean_squared_error: 24.6772 - val_loss: 140.2303 - val_mean_squared_error: 140.2303\n",
            "Epoch 49/150\n",
            "57/57 [==============================] - 3s 55ms/step - loss: 23.7699 - mean_squared_error: 23.7699 - val_loss: 130.8394 - val_mean_squared_error: 130.8394\n",
            "Epoch 50/150\n",
            "57/57 [==============================] - 3s 55ms/step - loss: 25.3455 - mean_squared_error: 25.3455 - val_loss: 122.9348 - val_mean_squared_error: 122.9348\n",
            "Epoch 51/150\n",
            "57/57 [==============================] - 3s 57ms/step - loss: 25.2947 - mean_squared_error: 25.2947 - val_loss: 127.5464 - val_mean_squared_error: 127.5464\n",
            "Epoch 52/150\n",
            "57/57 [==============================] - 3s 57ms/step - loss: 31.1453 - mean_squared_error: 31.1453 - val_loss: 127.2984 - val_mean_squared_error: 127.2984\n",
            "Epoch 53/150\n",
            "57/57 [==============================] - 3s 55ms/step - loss: 26.5470 - mean_squared_error: 26.5470 - val_loss: 123.6574 - val_mean_squared_error: 123.6574\n",
            "Epoch 54/150\n",
            "57/57 [==============================] - 3s 58ms/step - loss: 25.7472 - mean_squared_error: 25.7472 - val_loss: 139.1000 - val_mean_squared_error: 139.1000\n",
            "Epoch 55/150\n",
            "57/57 [==============================] - 3s 57ms/step - loss: 27.3294 - mean_squared_error: 27.3294 - val_loss: 136.3078 - val_mean_squared_error: 136.3078\n",
            "Epoch 56/150\n",
            "57/57 [==============================] - 3s 58ms/step - loss: 27.1607 - mean_squared_error: 27.1607 - val_loss: 124.4251 - val_mean_squared_error: 124.4251\n",
            "Epoch 57/150\n",
            "57/57 [==============================] - 3s 58ms/step - loss: 22.9787 - mean_squared_error: 22.9787 - val_loss: 120.2385 - val_mean_squared_error: 120.2385\n",
            "Epoch 58/150\n",
            "57/57 [==============================] - 3s 57ms/step - loss: 22.9429 - mean_squared_error: 22.9429 - val_loss: 121.4904 - val_mean_squared_error: 121.4904\n",
            "Epoch 59/150\n",
            "57/57 [==============================] - 3s 58ms/step - loss: 22.6021 - mean_squared_error: 22.6021 - val_loss: 126.5922 - val_mean_squared_error: 126.5922\n",
            "Epoch 60/150\n",
            "57/57 [==============================] - 3s 55ms/step - loss: 23.6818 - mean_squared_error: 23.6818 - val_loss: 134.4107 - val_mean_squared_error: 134.4107\n",
            "Epoch 61/150\n",
            "57/57 [==============================] - 3s 57ms/step - loss: 22.7987 - mean_squared_error: 22.7987 - val_loss: 136.0470 - val_mean_squared_error: 136.0470\n",
            "Epoch 62/150\n",
            "57/57 [==============================] - 3s 59ms/step - loss: 23.8568 - mean_squared_error: 23.8568 - val_loss: 130.8051 - val_mean_squared_error: 130.8051\n",
            "Epoch 63/150\n",
            "57/57 [==============================] - 3s 58ms/step - loss: 23.6725 - mean_squared_error: 23.6725 - val_loss: 138.0547 - val_mean_squared_error: 138.0547\n",
            "Epoch 64/150\n",
            "57/57 [==============================] - 3s 55ms/step - loss: 22.0415 - mean_squared_error: 22.0415 - val_loss: 132.1283 - val_mean_squared_error: 132.1283\n",
            "Epoch 65/150\n",
            "57/57 [==============================] - 3s 58ms/step - loss: 22.4677 - mean_squared_error: 22.4677 - val_loss: 125.6627 - val_mean_squared_error: 125.6627\n",
            "Epoch 66/150\n",
            "57/57 [==============================] - 3s 57ms/step - loss: 22.7401 - mean_squared_error: 22.7401 - val_loss: 127.6329 - val_mean_squared_error: 127.6329\n",
            "Epoch 67/150\n",
            "57/57 [==============================] - 3s 55ms/step - loss: 23.0268 - mean_squared_error: 23.0268 - val_loss: 123.3046 - val_mean_squared_error: 123.3046\n",
            "Epoch 68/150\n",
            "57/57 [==============================] - 3s 58ms/step - loss: 24.3087 - mean_squared_error: 24.3087 - val_loss: 124.9255 - val_mean_squared_error: 124.9255\n",
            "Epoch 69/150\n",
            "57/57 [==============================] - 3s 56ms/step - loss: 22.4695 - mean_squared_error: 22.4695 - val_loss: 125.5475 - val_mean_squared_error: 125.5475\n",
            "Epoch 70/150\n",
            "57/57 [==============================] - 3s 58ms/step - loss: 22.7690 - mean_squared_error: 22.7690 - val_loss: 134.2894 - val_mean_squared_error: 134.2894\n",
            "Epoch 71/150\n",
            "57/57 [==============================] - 3s 56ms/step - loss: 23.2428 - mean_squared_error: 23.2428 - val_loss: 136.4183 - val_mean_squared_error: 136.4183\n",
            "Epoch 72/150\n",
            "57/57 [==============================] - 3s 58ms/step - loss: 21.7715 - mean_squared_error: 21.7715 - val_loss: 126.0251 - val_mean_squared_error: 126.0251\n",
            "Epoch 73/150\n",
            "57/57 [==============================] - 3s 59ms/step - loss: 20.8103 - mean_squared_error: 20.8103 - val_loss: 133.4333 - val_mean_squared_error: 133.4333\n",
            "Epoch 74/150\n",
            "57/57 [==============================] - 3s 59ms/step - loss: 20.8676 - mean_squared_error: 20.8676 - val_loss: 147.9281 - val_mean_squared_error: 147.9281\n",
            "Epoch 75/150\n",
            "57/57 [==============================] - 3s 56ms/step - loss: 22.5815 - mean_squared_error: 22.5815 - val_loss: 158.9239 - val_mean_squared_error: 158.9239\n",
            "Epoch 76/150\n",
            "57/57 [==============================] - 3s 55ms/step - loss: 23.0618 - mean_squared_error: 23.0618 - val_loss: 139.9121 - val_mean_squared_error: 139.9121\n",
            "Epoch 77/150\n",
            "57/57 [==============================] - 3s 58ms/step - loss: 20.9987 - mean_squared_error: 20.9987 - val_loss: 139.0604 - val_mean_squared_error: 139.0604\n",
            "Epoch 78/150\n",
            "57/57 [==============================] - 3s 58ms/step - loss: 19.9070 - mean_squared_error: 19.9070 - val_loss: 131.5563 - val_mean_squared_error: 131.5563\n",
            "Epoch 79/150\n",
            "57/57 [==============================] - 3s 56ms/step - loss: 21.5405 - mean_squared_error: 21.5405 - val_loss: 134.3830 - val_mean_squared_error: 134.3830\n",
            "Epoch 80/150\n",
            "57/57 [==============================] - 3s 55ms/step - loss: 19.6957 - mean_squared_error: 19.6957 - val_loss: 128.7442 - val_mean_squared_error: 128.7442\n",
            "Epoch 81/150\n",
            "57/57 [==============================] - 3s 58ms/step - loss: 22.9888 - mean_squared_error: 22.9888 - val_loss: 124.3043 - val_mean_squared_error: 124.3043\n",
            "Epoch 82/150\n",
            "57/57 [==============================] - 3s 55ms/step - loss: 19.9380 - mean_squared_error: 19.9380 - val_loss: 130.6663 - val_mean_squared_error: 130.6663\n",
            "Epoch 83/150\n",
            "57/57 [==============================] - 3s 58ms/step - loss: 20.5114 - mean_squared_error: 20.5114 - val_loss: 130.6637 - val_mean_squared_error: 130.6637\n",
            "Epoch 84/150\n",
            "57/57 [==============================] - 3s 58ms/step - loss: 20.4841 - mean_squared_error: 20.4841 - val_loss: 126.6467 - val_mean_squared_error: 126.6467\n",
            "Epoch 85/150\n",
            "57/57 [==============================] - 3s 57ms/step - loss: 21.2523 - mean_squared_error: 21.2523 - val_loss: 143.6418 - val_mean_squared_error: 143.6418\n",
            "Epoch 86/150\n",
            "57/57 [==============================] - 3s 58ms/step - loss: 19.8929 - mean_squared_error: 19.8929 - val_loss: 137.1617 - val_mean_squared_error: 137.1617\n",
            "Epoch 87/150\n",
            "57/57 [==============================] - 3s 58ms/step - loss: 19.2819 - mean_squared_error: 19.2819 - val_loss: 115.5699 - val_mean_squared_error: 115.5699\n",
            "Epoch 88/150\n",
            "57/57 [==============================] - 3s 58ms/step - loss: 21.6190 - mean_squared_error: 21.6190 - val_loss: 133.0063 - val_mean_squared_error: 133.0063\n",
            "Epoch 89/150\n",
            "57/57 [==============================] - 3s 59ms/step - loss: 22.4862 - mean_squared_error: 22.4862 - val_loss: 131.2723 - val_mean_squared_error: 131.2723\n",
            "Epoch 90/150\n",
            "57/57 [==============================] - 3s 58ms/step - loss: 19.1213 - mean_squared_error: 19.1213 - val_loss: 120.9269 - val_mean_squared_error: 120.9269\n",
            "Epoch 91/150\n",
            "57/57 [==============================] - 3s 58ms/step - loss: 20.2270 - mean_squared_error: 20.2270 - val_loss: 125.9482 - val_mean_squared_error: 125.9482\n",
            "Epoch 92/150\n",
            "57/57 [==============================] - 3s 59ms/step - loss: 20.3237 - mean_squared_error: 20.3237 - val_loss: 133.4096 - val_mean_squared_error: 133.4096\n",
            "Epoch 93/150\n",
            "57/57 [==============================] - 3s 59ms/step - loss: 19.5855 - mean_squared_error: 19.5855 - val_loss: 133.8123 - val_mean_squared_error: 133.8123\n",
            "Epoch 94/150\n",
            "57/57 [==============================] - 3s 58ms/step - loss: 19.5332 - mean_squared_error: 19.5332 - val_loss: 137.3362 - val_mean_squared_error: 137.3362\n",
            "Epoch 95/150\n",
            "57/57 [==============================] - 3s 56ms/step - loss: 19.4657 - mean_squared_error: 19.4657 - val_loss: 126.0233 - val_mean_squared_error: 126.0233\n",
            "Epoch 96/150\n",
            "57/57 [==============================] - 3s 58ms/step - loss: 19.0488 - mean_squared_error: 19.0488 - val_loss: 133.0625 - val_mean_squared_error: 133.0625\n",
            "Epoch 97/150\n",
            "57/57 [==============================] - 3s 58ms/step - loss: 19.5676 - mean_squared_error: 19.5676 - val_loss: 125.0169 - val_mean_squared_error: 125.0169\n",
            "Epoch 98/150\n",
            "57/57 [==============================] - 3s 56ms/step - loss: 18.8036 - mean_squared_error: 18.8036 - val_loss: 135.0860 - val_mean_squared_error: 135.0860\n",
            "Epoch 99/150\n",
            "57/57 [==============================] - 3s 58ms/step - loss: 19.4422 - mean_squared_error: 19.4422 - val_loss: 141.5014 - val_mean_squared_error: 141.5014\n",
            "Epoch 100/150\n",
            "57/57 [==============================] - 3s 58ms/step - loss: 21.5011 - mean_squared_error: 21.5011 - val_loss: 134.1557 - val_mean_squared_error: 134.1557\n",
            "Epoch 101/150\n",
            "57/57 [==============================] - 3s 58ms/step - loss: 18.4926 - mean_squared_error: 18.4926 - val_loss: 129.4570 - val_mean_squared_error: 129.4570\n",
            "Epoch 102/150\n",
            "57/57 [==============================] - 3s 58ms/step - loss: 21.7588 - mean_squared_error: 21.7588 - val_loss: 136.7911 - val_mean_squared_error: 136.7911\n",
            "Epoch 103/150\n",
            "57/57 [==============================] - 3s 58ms/step - loss: 22.2675 - mean_squared_error: 22.2675 - val_loss: 129.7535 - val_mean_squared_error: 129.7535\n",
            "Epoch 104/150\n",
            "57/57 [==============================] - 3s 56ms/step - loss: 19.6731 - mean_squared_error: 19.6731 - val_loss: 139.9335 - val_mean_squared_error: 139.9335\n",
            "Epoch 105/150\n",
            "57/57 [==============================] - 3s 56ms/step - loss: 21.1238 - mean_squared_error: 21.1238 - val_loss: 123.0938 - val_mean_squared_error: 123.0938\n",
            "Epoch 106/150\n",
            "57/57 [==============================] - 3s 58ms/step - loss: 22.0004 - mean_squared_error: 22.0004 - val_loss: 126.6347 - val_mean_squared_error: 126.6347\n",
            "Epoch 107/150\n",
            "57/57 [==============================] - 3s 59ms/step - loss: 20.1852 - mean_squared_error: 20.1852 - val_loss: 131.1102 - val_mean_squared_error: 131.1102\n",
            "Epoch 108/150\n",
            "57/57 [==============================] - 3s 59ms/step - loss: 18.5309 - mean_squared_error: 18.5309 - val_loss: 136.3986 - val_mean_squared_error: 136.3986\n",
            "Epoch 109/150\n",
            "57/57 [==============================] - 3s 56ms/step - loss: 19.2986 - mean_squared_error: 19.2986 - val_loss: 135.4608 - val_mean_squared_error: 135.4608\n",
            "Epoch 110/150\n",
            "57/57 [==============================] - 3s 56ms/step - loss: 16.9151 - mean_squared_error: 16.9151 - val_loss: 130.8414 - val_mean_squared_error: 130.8414\n",
            "Epoch 111/150\n",
            "57/57 [==============================] - 3s 60ms/step - loss: 17.9075 - mean_squared_error: 17.9075 - val_loss: 129.8124 - val_mean_squared_error: 129.8124\n",
            "Epoch 112/150\n",
            "57/57 [==============================] - 3s 56ms/step - loss: 16.6197 - mean_squared_error: 16.6197 - val_loss: 139.0938 - val_mean_squared_error: 139.0938\n",
            "Epoch 113/150\n",
            "57/57 [==============================] - 3s 58ms/step - loss: 19.4876 - mean_squared_error: 19.4876 - val_loss: 140.2318 - val_mean_squared_error: 140.2318\n",
            "Epoch 114/150\n",
            "57/57 [==============================] - 3s 58ms/step - loss: 19.4763 - mean_squared_error: 19.4763 - val_loss: 145.3221 - val_mean_squared_error: 145.3221\n",
            "Epoch 115/150\n",
            "57/57 [==============================] - 3s 60ms/step - loss: 20.5260 - mean_squared_error: 20.5260 - val_loss: 125.6798 - val_mean_squared_error: 125.6798\n",
            "Epoch 116/150\n",
            "57/57 [==============================] - 3s 56ms/step - loss: 20.2708 - mean_squared_error: 20.2708 - val_loss: 131.2314 - val_mean_squared_error: 131.2314\n",
            "Epoch 117/150\n",
            "57/57 [==============================] - 3s 58ms/step - loss: 19.0072 - mean_squared_error: 19.0072 - val_loss: 129.4707 - val_mean_squared_error: 129.4707\n",
            "Epoch 118/150\n",
            "57/57 [==============================] - 3s 57ms/step - loss: 18.0693 - mean_squared_error: 18.0693 - val_loss: 138.2744 - val_mean_squared_error: 138.2744\n",
            "Epoch 119/150\n",
            "57/57 [==============================] - 3s 59ms/step - loss: 18.0224 - mean_squared_error: 18.0224 - val_loss: 131.9906 - val_mean_squared_error: 131.9906\n",
            "Epoch 120/150\n",
            "57/57 [==============================] - 3s 58ms/step - loss: 19.0587 - mean_squared_error: 19.0587 - val_loss: 141.4558 - val_mean_squared_error: 141.4558\n",
            "Epoch 121/150\n",
            "57/57 [==============================] - 3s 58ms/step - loss: 18.7137 - mean_squared_error: 18.7137 - val_loss: 142.8656 - val_mean_squared_error: 142.8656\n",
            "Epoch 122/150\n",
            "57/57 [==============================] - 3s 60ms/step - loss: 19.4706 - mean_squared_error: 19.4706 - val_loss: 133.0759 - val_mean_squared_error: 133.0759\n",
            "Epoch 123/150\n",
            "57/57 [==============================] - 3s 56ms/step - loss: 17.0327 - mean_squared_error: 17.0327 - val_loss: 140.9054 - val_mean_squared_error: 140.9054\n",
            "Epoch 124/150\n",
            "57/57 [==============================] - 3s 56ms/step - loss: 15.9232 - mean_squared_error: 15.9232 - val_loss: 130.7675 - val_mean_squared_error: 130.7675\n",
            "Epoch 125/150\n",
            "57/57 [==============================] - 3s 56ms/step - loss: 16.9312 - mean_squared_error: 16.9312 - val_loss: 130.5201 - val_mean_squared_error: 130.5201\n",
            "Epoch 126/150\n",
            "57/57 [==============================] - 3s 57ms/step - loss: 16.3089 - mean_squared_error: 16.3089 - val_loss: 129.3639 - val_mean_squared_error: 129.3639\n",
            "Epoch 127/150\n",
            "57/57 [==============================] - 3s 58ms/step - loss: 21.5797 - mean_squared_error: 21.5797 - val_loss: 136.9845 - val_mean_squared_error: 136.9845\n",
            "Epoch 128/150\n",
            "57/57 [==============================] - 3s 58ms/step - loss: 17.4298 - mean_squared_error: 17.4298 - val_loss: 136.6051 - val_mean_squared_error: 136.6051\n",
            "Epoch 129/150\n",
            "57/57 [==============================] - 3s 59ms/step - loss: 18.7953 - mean_squared_error: 18.7953 - val_loss: 136.1888 - val_mean_squared_error: 136.1888\n",
            "Epoch 130/150\n",
            "57/57 [==============================] - 3s 59ms/step - loss: 17.7486 - mean_squared_error: 17.7486 - val_loss: 128.1008 - val_mean_squared_error: 128.1008\n",
            "Epoch 131/150\n",
            "57/57 [==============================] - 3s 58ms/step - loss: 16.6308 - mean_squared_error: 16.6308 - val_loss: 130.7524 - val_mean_squared_error: 130.7524\n",
            "Epoch 132/150\n",
            "57/57 [==============================] - 3s 58ms/step - loss: 16.0268 - mean_squared_error: 16.0268 - val_loss: 125.6921 - val_mean_squared_error: 125.6921\n",
            "Epoch 133/150\n",
            "57/57 [==============================] - 3s 59ms/step - loss: 18.8801 - mean_squared_error: 18.8801 - val_loss: 139.3995 - val_mean_squared_error: 139.3995\n",
            "Epoch 134/150\n",
            "57/57 [==============================] - 3s 56ms/step - loss: 18.7966 - mean_squared_error: 18.7966 - val_loss: 139.7899 - val_mean_squared_error: 139.7899\n",
            "Epoch 135/150\n",
            "57/57 [==============================] - 3s 56ms/step - loss: 17.5546 - mean_squared_error: 17.5546 - val_loss: 129.0084 - val_mean_squared_error: 129.0084\n",
            "Epoch 136/150\n",
            "57/57 [==============================] - 3s 58ms/step - loss: 16.0294 - mean_squared_error: 16.0294 - val_loss: 122.4625 - val_mean_squared_error: 122.4625\n",
            "Epoch 137/150\n",
            "57/57 [==============================] - 3s 60ms/step - loss: 16.7966 - mean_squared_error: 16.7966 - val_loss: 133.5190 - val_mean_squared_error: 133.5190\n",
            "Epoch 138/150\n",
            "57/57 [==============================] - 3s 57ms/step - loss: 16.2484 - mean_squared_error: 16.2484 - val_loss: 134.1498 - val_mean_squared_error: 134.1498\n",
            "Epoch 139/150\n",
            "57/57 [==============================] - 3s 58ms/step - loss: 17.4524 - mean_squared_error: 17.4524 - val_loss: 132.9736 - val_mean_squared_error: 132.9736\n",
            "Epoch 140/150\n",
            "57/57 [==============================] - 3s 56ms/step - loss: 18.8793 - mean_squared_error: 18.8793 - val_loss: 134.0727 - val_mean_squared_error: 134.0727\n",
            "Epoch 141/150\n",
            "57/57 [==============================] - 3s 60ms/step - loss: 17.0785 - mean_squared_error: 17.0785 - val_loss: 135.2472 - val_mean_squared_error: 135.2472\n",
            "Epoch 142/150\n",
            "57/57 [==============================] - 3s 56ms/step - loss: 16.4059 - mean_squared_error: 16.4059 - val_loss: 139.2486 - val_mean_squared_error: 139.2486\n",
            "Epoch 143/150\n",
            "57/57 [==============================] - 3s 58ms/step - loss: 16.3171 - mean_squared_error: 16.3171 - val_loss: 135.8321 - val_mean_squared_error: 135.8321\n",
            "Epoch 144/150\n",
            "57/57 [==============================] - 3s 59ms/step - loss: 18.5425 - mean_squared_error: 18.5425 - val_loss: 150.1452 - val_mean_squared_error: 150.1452\n",
            "Epoch 145/150\n",
            "57/57 [==============================] - 3s 60ms/step - loss: 18.8737 - mean_squared_error: 18.8737 - val_loss: 141.2150 - val_mean_squared_error: 141.2150\n",
            "Epoch 146/150\n",
            "57/57 [==============================] - 3s 58ms/step - loss: 20.0108 - mean_squared_error: 20.0108 - val_loss: 155.3113 - val_mean_squared_error: 155.3113\n",
            "Epoch 147/150\n",
            "57/57 [==============================] - 3s 56ms/step - loss: 20.1227 - mean_squared_error: 20.1227 - val_loss: 131.6134 - val_mean_squared_error: 131.6134\n",
            "Epoch 148/150\n",
            "57/57 [==============================] - 3s 57ms/step - loss: 17.3210 - mean_squared_error: 17.3210 - val_loss: 133.9388 - val_mean_squared_error: 133.9388\n",
            "Epoch 149/150\n",
            "57/57 [==============================] - 3s 59ms/step - loss: 17.4325 - mean_squared_error: 17.4325 - val_loss: 133.6775 - val_mean_squared_error: 133.6775\n",
            "Epoch 150/150\n",
            "57/57 [==============================] - 3s 58ms/step - loss: 19.4705 - mean_squared_error: 19.4705 - val_loss: 134.6762 - val_mean_squared_error: 134.6762\n"
          ]
        }
      ]
    },
    {
      "cell_type": "code",
      "source": [
        "plt.plot(history.history['mean_squared_error'], label='MSE (training data)')\n",
        "plt.plot(history.history['val_mean_squared_error'], label='MSE (validation data)')\n",
        "plt.title('MSE for Facial keypoints')\n",
        "plt.ylabel('MSE value')\n",
        "plt.xlabel('No. epoch')\n",
        "plt.legend(loc=\"upper left\")\n",
        "plt.show()"
      ],
      "metadata": {
        "colab": {
          "base_uri": "https://localhost:8080/",
          "height": 275
        },
        "id": "XXE5zoSBp8bZ",
        "outputId": "3a842888-360c-48a0-ff84-bf163793e601"
      },
      "execution_count": 23,
      "outputs": [
        {
          "output_type": "display_data",
          "data": {
            "text/plain": [
              "<Figure size 640x480 with 1 Axes>"
            ],
            "image/png": "[encoded data removed]"
          },
          "metadata": {}
        }
      ]
    },
    {
      "cell_type": "code",
      "source": [
        "pred = model.predict(x_test)"
      ],
      "metadata": {
        "colab": {
          "base_uri": "https://localhost:8080/"
        },
        "id": "4BuBXi7VqPRP",
        "outputId": "8e7665ab-3f12-4aab-a287-b722d98c5215"
      },
      "execution_count": 24,
      "outputs": [
        {
          "output_type": "stream",
          "name": "stdout",
          "text": [
            "45/45 [==============================] - 1s 7ms/step\n"
          ]
        }
      ]
    },
    {
      "cell_type": "code",
      "source": [
        "def plot_pred_img(imgs, truth, pred, index):\n",
        "  plt.imshow(imgs[index, :, :, 0], cmap = \"gray\")\n",
        "\n",
        "  t = np.array(truth)[index]\n",
        "  plt.scatter(t[0::2], t[1::2], c = \"y\")\n",
        "\n",
        "  p = pred[index, :]\n",
        "  plt.scatter(p[0::2], p[1::2], c = \"g\")\n",
        "\n",
        "  plt.show()"
      ],
      "metadata": {
        "id": "iU7vB_jHqUG9"
      },
      "execution_count": 25,
      "outputs": []
    },
    {
      "cell_type": "code",
      "source": [
        "plot_pred_img(x_test, y_test, pred, 3)"
      ],
      "metadata": {
        "colab": {
          "base_uri": "https://localhost:8080/",
          "height": 341
        },
        "id": "VV6gqRbqtcsi",
        "outputId": "035f5a0d-ff78-41c0-fb9b-fa48c0c01648"
      },
      "execution_count": 27,
      "outputs": [
        {
          "output_type": "display_data",
          "data": {
            "text/plain": [
              "<Figure size 640x480 with 1 Axes>"
            ],
            "image/png": "[encoded data removed]"
          },
          "metadata": {}
        }
      ]
    },
    {
      "cell_type": "code",
      "source": [
        "plot_pred_img(x_test, y_test, pred, 20)"
      ],
      "metadata": {
        "colab": {
          "base_uri": "https://localhost:8080/",
          "height": 341
        },
        "id": "KdBeuWOztyJZ",
        "outputId": "b8c99063-b7f1-4d52-c3a0-6437ba0a4cd3"
      },
      "execution_count": 28,
      "outputs": [
        {
          "output_type": "display_data",
          "data": {
            "text/plain": [
              "<Figure size 640x480 with 1 Axes>"
            ],
            "image/png": "[encoded data removed]"
          },
          "metadata": {}
        }
      ]
    },
    {
      "cell_type": "code",
      "source": [
        "plot_pred_img(x_test, y_test, pred, 29)"
      ],
      "metadata": {
        "colab": {
          "base_uri": "https://localhost:8080/",
          "height": 327
        },
        "id": "IHWOtnS9uDFc",
        "outputId": "a8a55a70-0897-4020-b231-9f82fe5d4779"
      },
      "execution_count": 30,
      "outputs": [
        {
          "output_type": "display_data",
          "data": {
            "text/plain": [
              "<Figure size 640x480 with 1 Axes>"
            ],
            "image/png": "[encoded data removed]"
          },
          "metadata": {}
        }
      ]
    }
  ],
  "metadata": {
    "colab": {
      "provenance": [],
      "gpuType": "T4",
      "authorship_tag": "ABX9TyOuBkKL6GVUY0oj4emG0Eva",
      "include_colab_link": true
    },
    "kernelspec": {
      "display_name": "Python 3",
      "name": "python3"
    },
    "language_info": {
      "name": "python"
    },
    "accelerator": "GPU"
  },
  "nbformat": 4,
  "nbformat_minor": 0
}