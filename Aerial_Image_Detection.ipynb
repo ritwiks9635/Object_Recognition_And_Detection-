{
  "cells": [
    {
      "cell_type": "markdown",
      "metadata": {
        "id": "view-in-github",
        "colab_type": "text"
      },
      "source": [
        "<a href=\"https://colab.research.google.com/github/ritwiks9635/Object_Recognition_And_Detection-/blob/main/Aerial_Image_Detection.ipynb\" target=\"_parent\"><img src=\"https://colab.research.google.com/assets/colab-badge.svg\" alt=\"Open In Colab\"/></a>"
      ]
    },
    {
      "cell_type": "markdown",
      "source": [
        "# **Aerial Image Detection**"
      ],
      "metadata": {
        "id": "SQTrh7GqH-AG"
      }
    },
    {
      "cell_type": "code",
      "source": [
        "#https://www.kaggle.com/datasets/ammarnassanalhajali/mmdetectron-31-wheel"
      ],
      "metadata": {
        "id": "YM8i-5r1FMuw"
      },
      "execution_count": 1,
      "outputs": []
    },
    {
      "cell_type": "code",
      "source": [
        "#https://www.kaggle.com/datasets/haoqingsong/frozen-packages-mmdetection"
      ],
      "metadata": {
        "id": "72PM2-hcIJ5K"
      },
      "execution_count": 2,
      "outputs": []
    },
    {
      "cell_type": "code",
      "source": [
        "#https://www.kaggle.com/datasets/kailaspsudheer/tiny-object-detection"
      ],
      "metadata": {
        "id": "KeqYInxIkjqQ"
      },
      "execution_count": 3,
      "outputs": []
    },
    {
      "cell_type": "code",
      "source": [
        "!unzip /content/https:/www.kaggle.com/datasets/kailaspsudheer/tiny-object-detection/tiny-object-detection.zip"
      ],
      "metadata": {
        "id": "yf450sM-xSUi"
      },
      "execution_count": null,
      "outputs": []
    },
    {
      "cell_type": "code",
      "source": [
        "!unzip /content/https:/www.kaggle.com/datasets/ammarnassanalhajali/mmdetectron-31-wheel/mmdetectron-31-wheel.zip"
      ],
      "metadata": {
        "id": "QXjLgu_TFoeW"
      },
      "execution_count": null,
      "outputs": []
    },
    {
      "cell_type": "code",
      "source": [
        "!unzip /content/https:/www.kaggle.com/datasets/haoqingsong/frozen-packages-mmdetection/frozen-packages-mmdetection.zip"
      ],
      "metadata": {
        "id": "4sTclfVOyCSs"
      },
      "execution_count": 9,
      "outputs": []
    },
    {
      "cell_type": "code",
      "source": [
        "import IPython.display as display\n",
        "!pip install --no-index --no-deps /content/pycocotools-2.0.6-cp310-cp310-linux_x86_64.whl\n",
        "!pip install --no-index --no-deps /content/torch-1.12.1+cu116-cp310-cp310-linux_x86_64.whl\n",
        "!pip install --no-index --no-deps /content/torchvision-0.13.1+cu116-cp310-cp310-linux_x86_64.whl\n",
        "!pip install --no-index --no-deps /content/mmcv-2.0.1-cp310-cp310-manylinux1_x86_64.whl\n",
        "!pip install --no-index --no-deps /content/openmim-0.3.9-py2.py3-none-any.whl\n",
        "!pip install --no-index --no-deps /content/mmengine-0.7.4-py3-none-any.whl\n",
        "!pip install --no-index --no-deps /content/addict-2.4.0-py3-none-any.whl\n",
        "!pip install yapf==0.40.1\n",
        "display.clear_output()"
      ],
      "metadata": {
        "id": "dm3_1gzG-9UL"
      },
      "execution_count": 10,
      "outputs": []
    },
    {
      "cell_type": "code",
      "source": [
        "!git clone https://github.com/open-mmlab/mmdetection.git\n",
        "%cd mmdetection\n",
        "!pip install -v -e ."
      ],
      "metadata": {
        "id": "C1Sd202JkSjy"
      },
      "execution_count": null,
      "outputs": []
    },
    {
      "cell_type": "code",
      "source": [
        "!mkdir checkpoint\n",
        "!mkdir outputs\n",
        "!mkdir data\n",
        "!mkdir data/images\n",
        "!mkdir data/labels\n",
        "\n",
        "display.clear_output()"
      ],
      "metadata": {
        "id": "nmlqF2PckOJC"
      },
      "execution_count": 12,
      "outputs": []
    },
    {
      "cell_type": "code",
      "source": [
        "import torch, torchvision,mmdet\n",
        "print(\"torch=\",torch.__version__,torch.cuda.is_available())\n",
        "print(\"mmdet=\",mmdet.__version__)\n",
        "from mmcv.ops import get_compiling_cuda_version, get_compiler_version\n",
        "print(get_compiling_cuda_version())\n",
        "print(get_compiler_version())"
      ],
      "metadata": {
        "colab": {
          "base_uri": "https://localhost:8080/"
        },
        "id": "9lB-mhcBxp9R",
        "outputId": "dc4c85c2-3510-4bbb-b8f3-3188c4ead444"
      },
      "execution_count": 13,
      "outputs": [
        {
          "output_type": "stream",
          "name": "stdout",
          "text": [
            "torch= 1.12.1+cu116 True\n",
            "mmdet= 3.3.0\n",
            "11.6\n",
            "GCC 9.3\n"
          ]
        }
      ]
    },
    {
      "cell_type": "code",
      "source": [
        "import os\n",
        "import io\n",
        "import shutil\n",
        "from PIL import Image"
      ],
      "metadata": {
        "id": "_Xa80L-Pz3IZ"
      },
      "execution_count": 14,
      "outputs": []
    },
    {
      "cell_type": "code",
      "source": [
        "from pycocotools.coco import COCO\n",
        "\n",
        "annot_path = \"/content/SkyFusion/train/_annotations.coco.json\"\n",
        "\n",
        "coco = COCO(annot_path)\n",
        "\n",
        "categories = coco.loadCats(coco.getCatIds())\n",
        "category_id_to_name = {cat['id']: cat['name'] for cat in categories}\n",
        "\n",
        "\n",
        "for category_id, category_name in category_id_to_name.items():\n",
        "    print(f\"Category ID: {category_id}, Category Name: {category_name}\")"
      ],
      "metadata": {
        "colab": {
          "base_uri": "https://localhost:8080/"
        },
        "id": "si-9H6aN0Fm5",
        "outputId": "5b7bfb6d-e8b6-47a3-ef8a-47af16f2534d"
      },
      "execution_count": 16,
      "outputs": [
        {
          "output_type": "stream",
          "name": "stdout",
          "text": [
            "loading annotations into memory...\n",
            "Done (t=0.40s)\n",
            "creating index...\n",
            "index created!\n",
            "Category ID: 1, Category Name: Aircraft\n",
            "Category ID: 2, Category Name: ship\n",
            "Category ID: 3, Category Name: vehicle\n"
          ]
        }
      ]
    },
    {
      "cell_type": "code",
      "source": [
        "!wget https://download.openmmlab.com/mmdetection/v3.0/ddq/ddq_detr_swinl_30e.pth -P ./checkpoints\n",
        "display.clear_output()"
      ],
      "metadata": {
        "id": "tHGYH8D104yt"
      },
      "execution_count": 17,
      "outputs": []
    },
    {
      "cell_type": "code",
      "source": [
        "from mmengine import Config\n",
        "cfg = Config.fromfile('configs/ddq/ddq-detr-4scale_swinl_8xb2-30e_coco.py')"
      ],
      "metadata": {
        "id": "sPiUYsMo33nT"
      },
      "execution_count": 18,
      "outputs": []
    },
    {
      "cell_type": "code",
      "source": [
        "config_car = \"\"\"\n",
        "_base_ = './ddq-detr-4scale_swinl_8xb2-30e_coco.py'\n",
        "\n",
        "data_root = '/content/SkyFusion/'\n",
        "\n",
        "train_batch_size_per_gpu = 1\n",
        "train_num_workers = 2\n",
        "\n",
        "max_epochs = 20\n",
        "\n",
        "metainfo = {\n",
        "    'classes': ('Aircraft', 'ship', 'vehicle'),\n",
        "    'palette': [\n",
        "        (127, 201, 127), (190, 174, 212), (253, 192, 134),\n",
        "    ]\n",
        "}\n",
        "\n",
        "train_pipeline = [\n",
        "    dict(type='LoadImageFromFile', backend_args=_base_.backend_args),\n",
        "    dict(type='LoadAnnotations', with_bbox=True),\n",
        "    dict(type='RandomFlip', prob=0.5),\n",
        "    dict(\n",
        "        type='RandomChoice',\n",
        "        transforms=[\n",
        "            [\n",
        "                dict(\n",
        "                    type='RandomChoiceResize',\n",
        "                    scales=[(1280, 1280)],\n",
        "                    keep_ratio=True)\n",
        "            ],\n",
        "            [\n",
        "                dict(\n",
        "                    type='RandomChoiceResize',\n",
        "                    scales=[(1280, 4200)],\n",
        "                    keep_ratio=True),\n",
        "                dict(\n",
        "                    type='RandomCrop',\n",
        "                    crop_type='absolute_range',\n",
        "                    crop_size=(384, 640),\n",
        "                    allow_negative_crop=True),\n",
        "                dict(\n",
        "                    type='RandomChoiceResize',\n",
        "                    scales=[(1280, 1280)],\n",
        "                    keep_ratio=True)\n",
        "            ]\n",
        "        ]),\n",
        "    dict(type='PackDetInputs')\n",
        "]\n",
        "\n",
        "test_pipeline = [\n",
        "    dict(type='LoadImageFromFile', backend_args=None),\n",
        "    dict(type='Resize', scale=(1280, 1280), keep_ratio=True),\n",
        "    dict(type='LoadAnnotations', with_bbox=True),\n",
        "    dict(\n",
        "        type='PackDetInputs',\n",
        "        meta_keys=('img_id', 'img_path', 'ori_shape', 'img_shape',\n",
        "                   'scale_factor'))\n",
        "]\n",
        "\n",
        "train_dataloader = dict(\n",
        "    batch_size=train_batch_size_per_gpu,\n",
        "    num_workers=train_num_workers,\n",
        "    dataset=dict(\n",
        "        data_root=data_root,\n",
        "        metainfo=metainfo,\n",
        "        data_prefix=dict(img='train/'),\n",
        "        ann_file='train/_annotations.coco.json'))\n",
        "\n",
        "val_dataloader = dict(\n",
        "    batch_size=train_batch_size_per_gpu,\n",
        "    num_workers=train_num_workers,\n",
        "    dataset=dict(\n",
        "        data_root=data_root,\n",
        "        metainfo=metainfo,\n",
        "        data_prefix=dict(img='valid/'),\n",
        "        ann_file='valid/_annotations.coco.json'))\n",
        "\n",
        "test_dataloader = dict(\n",
        "    batch_size=train_batch_size_per_gpu,\n",
        "    num_workers=train_num_workers,\n",
        "    dataset=dict(\n",
        "        data_root=data_root,\n",
        "        metainfo=metainfo,\n",
        "        data_prefix=dict(img='test/'),\n",
        "        ann_file='test/_annotations.coco.json'))\n",
        "\n",
        "val_evaluator = dict(ann_file=data_root + 'valid/_annotations.coco.json')\n",
        "\n",
        "test_evaluator = dict(ann_file=data_root + 'test/_annotations.coco.json')\n",
        "\n",
        "model = dict(backbone=dict(frozen_stages=4), bbox_head=dict(num_classes=3))\n",
        "\n",
        "optim_wrapper = dict(\n",
        "    type='OptimWrapper',\n",
        "    optimizer=dict(\n",
        "        type='AdamW',\n",
        "        lr=0.0002/16,\n",
        "        weight_decay=0.05),\n",
        "    clip_grad=dict(max_norm=0.1/16, norm_type=2),\n",
        "    paramwise_cfg=dict(custom_keys={'backbone': dict(lr_mult=0.1/16)})\n",
        ")\n",
        "\n",
        "default_hooks = dict(\n",
        "    checkpoint=dict(\n",
        "        interval=1,\n",
        "        max_keep_ckpts=2,\n",
        "        save_best='auto'\n",
        "    ),\n",
        "    logger=dict(type='LoggerHook', interval=2000))\n",
        "\n",
        "load_from = './checkpoints/ddq_detr_swinl_30e.pth'\n",
        "\n",
        "train_cfg = dict(type='EpochBasedTrainLoop', max_epochs=max_epochs, val_interval=2)\n",
        "randomness = dict(seed=2023, deterministic=False, diff_rank_seed=False)\n",
        "\"\"\"\n",
        "\n",
        "with open('./configs/ddq/ddq-detr-4scale_swinl_1xb1-15e_sky.py', 'w') as f:\n",
        "    f.write(config_car)"
      ],
      "metadata": {
        "id": "17B_SwGo4Fk5"
      },
      "execution_count": 19,
      "outputs": []
    },
    {
      "cell_type": "code",
      "source": [
        "!python tools/train.py configs/ddq/ddq-detr-4scale_swinl_1xb1-15e_sky.py"
      ],
      "metadata": {
        "id": "-kbSX3pk5SlX"
      },
      "execution_count": null,
      "outputs": []
    },
    {
      "cell_type": "code",
      "source": [
        "from mmdet.apis import DetInferencer\n",
        "import glob\n",
        "\n",
        "config = 'configs/ddq/ddq-detr-4scale_swinl_1xb1-15e_sky.py'\n",
        "checkpoint = glob.glob('./work_dirs/ddq-detr-4scale_swinl_1xb1-15e_sky/best_coco*.pth')[0]\n",
        "\n",
        "device = 'cuda:0'\n",
        "\n",
        "inferencer = DetInferencer(config, checkpoint, device)\n",
        "\n",
        "img = '/content/SkyFusion/test/007b39d27_png_jpg.rf.f842b89874525c4347de23216da3cd92.jpg'\n",
        "result = inferencer(img, out_dir='./output', pred_score_thr=0.6)\n",
        "\n",
        "display.clear_output()\n",
        "Image.open('./output/vis/007b39d27_png_jpg.rf.f842b89874525c4347de23216da3cd92.jpg')"
      ],
      "metadata": {
        "id": "FQoPDLvl_oAP"
      },
      "execution_count": null,
      "outputs": []
    },
    {
      "cell_type": "code",
      "source": [
        "img = '/content/SkyFusion/test/014de911-7810-4f7d-8967-3e5402209f4a_0_0_jpg.rf.7b6e48f643ecb69e2a57f0dc685686ce.jpg'\n",
        "result = inferencer(img, out_dir='./output', pred_score_thr=0.6)\n",
        "\n",
        "display.clear_output()\n",
        "Image.open('./output/vis/014de911-7810-4f7d-8967-3e5402209f4a_0_0_jpg.rf.7b6e48f643ecb69e2a57f0dc685686ce.jpg')"
      ],
      "metadata": {
        "id": "PNqUSoth__tO"
      },
      "execution_count": null,
      "outputs": []
    },
    {
      "cell_type": "code",
      "source": [],
      "metadata": {
        "id": "pBwgl5mkALPj"
      },
      "execution_count": null,
      "outputs": []
    }
  ],
  "metadata": {
    "colab": {
      "provenance": [],
      "authorship_tag": "ABX9TyOG8LvDhTjr4YM+R3nuVdBZ",
      "include_colab_link": true
    },
    "kernelspec": {
      "display_name": "Python 3",
      "name": "python3"
    },
    "language_info": {
      "name": "python"
    }
  },
  "nbformat": 4,
  "nbformat_minor": 0
}