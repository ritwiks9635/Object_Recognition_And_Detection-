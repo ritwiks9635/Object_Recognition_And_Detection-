{
  "metadata": {
    "colab": {
      "provenance": [],
      "machine_shape": "hm",
      "gpuType": "T4",
      "include_colab_link": true
    },
    "kernelspec": {
      "display_name": "Python 3",
      "name": "python3"
    },
    "language_info": {
      "name": "python",
      "version": "3.7.9"
    },
    "vscode": {
      "interpreter": {
        "hash": "dee462b5ac3ce9c6183fc31797972f06951caa80a5376deb2eb8c081c74e9822"
      }
    },
    "accelerator": "GPU"
  },
  "nbformat_minor": 0,
  "nbformat": 4,
  "cells": [
    {
      "cell_type": "markdown",
      "metadata": {
        "id": "view-in-github",
        "colab_type": "text"
      },
      "source": [
        "<a href=\"https://colab.research.google.com/github/ritwiks9635/Object_Recognition_And_Detection-/blob/main/yolov5_v8_object_detection.ipynb\" target=\"_parent\"><img src=\"https://colab.research.google.com/assets/colab-badge.svg\" alt=\"Open In Colab\"/></a>"
      ]
    },
    {
      "cell_type": "code",
      "source": [
        "from google.colab import drive\n",
        "drive.mount('/content/gdrive')"
      ],
      "metadata": {
        "id": "leotrvw5kw-H",
        "colab": {
          "base_uri": "https://localhost:8080/"
        },
        "outputId": "8084da49-765e-43e6-9a71-48b34c35e65b"
      },
      "execution_count": null,
      "outputs": [
        {
          "output_type": "stream",
          "name": "stdout",
          "text": "Mounted at /content/gdrive\n"
        }
      ]
    },
    {
      "cell_type": "markdown",
      "source": [
        "### Install the Kaggle library"
      ],
      "metadata": {
        "id": "Io9LBm_bWNRp"
      }
    },
    {
      "cell_type": "code",
      "source": [
        "!pip install kaggle"
      ],
      "metadata": {
        "id": "iI04rtTeV0yl"
      },
      "execution_count": null,
      "outputs": []
    },
    {
      "cell_type": "code",
      "source": [
        "#Set Kaggle Configuration\n",
        "import os\n",
        "os.environ['KAGGLE_CONFIG_DIR'] = '/content/kaggle/'"
      ],
      "metadata": {
        "id": "keriwNM6m-c9"
      },
      "execution_count": null,
      "outputs": []
    },
    {
      "cell_type": "code",
      "source": [
        "# prompt: import kaggle.json file from my device\n",
        "\n",
        "from google.colab import files\n",
        "uploaded = files.upload()\n"
      ],
      "metadata": {
        "id": "k54OlLc38t-m"
      },
      "execution_count": null,
      "outputs": []
    },
    {
      "cell_type": "code",
      "source": [
        "# prompt: make \"kaggle\" folder with os library and move kaggle.json to kaggle folder with shutil library\n",
        "\n",
        "import os\n",
        "import shutil\n",
        "\n",
        "# Create the \"kaggle\" folder\n",
        "!mkdir /content/kaggle\n",
        "\n",
        "# Move the kaggle.json file to the \"kaggle\" folder\n",
        "shutil.move(\"/content/kaggle.json\", \"/content/kaggle/kaggle.json\")\n"
      ],
      "metadata": {
        "colab": {
          "base_uri": "https://localhost:8080/",
          "height": 35
        },
        "id": "0MP1bwGiCxsC",
        "outputId": "5761223b-48fb-4371-b37a-639a0bdf130a"
      },
      "execution_count": null,
      "outputs": [
        {
          "output_type": "execute_result",
          "execution_count": 4,
          "data": {
            "text/plain": [
              "'/content/kaggle/kaggle.json'"
            ],
            "application/vnd.google.colaboratory.intrinsic+json": {
              "type": "string"
            }
          },
          "metadata": {}
        }
      ]
    },
    {
      "cell_type": "markdown",
      "source": [
        "## Prepare dataset"
      ],
      "metadata": {
        "id": "ycLMRdwgAvPI"
      }
    },
    {
      "cell_type": "code",
      "source": [
        "#download the dataset from Kaggle using the Kaggle API\n",
        "!kaggle datasets download -d alincijov/self-driving-cars"
      ],
      "metadata": {
        "colab": {
          "base_uri": "https://localhost:8080/"
        },
        "id": "sneuWNJ1Wnj3",
        "outputId": "d2dd7bb6-1d26-4942-d1ee-325f29a1f888"
      },
      "execution_count": null,
      "outputs": [
        {
          "output_type": "stream",
          "name": "stdout",
          "text": "Warning: Your Kaggle API key is readable by other users on this system! To fix this, you can run 'chmod 600 /content/kaggle/kaggle.json'\n\nDownloading self-driving-cars.zip to /content\n\n 99% 884M/892M [00:06<00:00, 117MB/s]\n\n100% 892M/892M [00:06<00:00, 137MB/s]\n"
        }
      ]
    },
    {
      "cell_type": "code",
      "source": [
        "import zipfile\n",
        "\n",
        "# Define the path to your zip file\n",
        "file_path = '/content/self-driving-cars.zip'  # Replace 'your_file.zip' with your file's name\n",
        "\n",
        "# Unzip the file to a specific destination\n",
        "with zipfile.ZipFile(file_path, 'r') as zip_ref:\n",
        "    zip_ref.extractall('/content/kaggle')  # Replace 'destination_folder' with your desired folder"
      ],
      "metadata": {
        "id": "pwekhBO9iysx"
      },
      "execution_count": null,
      "outputs": []
    },
    {
      "cell_type": "markdown",
      "source": [
        "# **YOLOv5**"
      ],
      "metadata": {
        "id": "yN5_-wcKm1_L"
      }
    },
    {
      "cell_type": "code",
      "source": [
        "!python -m pip install --upgrade pip\n",
        "\n",
        "!pip install tensorflow\n",
        "\n",
        "!pip install tensorboard"
      ],
      "metadata": {
        "id": "W8XcO_VJm5yd"
      },
      "execution_count": null,
      "outputs": []
    },
    {
      "cell_type": "code",
      "source": [
        "!pip install torch"
      ],
      "metadata": {
        "id": "S_pof9Hwm6vX"
      },
      "execution_count": null,
      "outputs": []
    },
    {
      "cell_type": "code",
      "source": [
        "import torch\n",
        "from IPython.display import Image\n",
        "import random\n",
        "import shutil"
      ],
      "metadata": {
        "id": "3I6AK-JM8xg7"
      },
      "execution_count": null,
      "outputs": []
    },
    {
      "cell_type": "markdown",
      "source": [
        "### Specify the destination directory"
      ],
      "metadata": {
        "id": "flWsMZnYAjHX"
      }
    },
    {
      "cell_type": "code",
      "source": [
        "destination_directory = '/content/kaggle'"
      ],
      "metadata": {
        "id": "wKEa2b1hAloF"
      },
      "execution_count": null,
      "outputs": []
    },
    {
      "cell_type": "markdown",
      "source": [
        "### Clone the YOLOv5 repository:"
      ],
      "metadata": {
        "id": "8-udrfQ7A9QO"
      }
    },
    {
      "cell_type": "code",
      "source": [
        "%cd {destination_directory}"
      ],
      "metadata": {
        "id": "fnve33KN4Vn8",
        "outputId": "3966f556-4cd1-425c-bb02-6cc027ec8a3a",
        "colab": {
          "base_uri": "https://localhost:8080/"
        }
      },
      "execution_count": null,
      "outputs": [
        {
          "output_type": "stream",
          "name": "stdout",
          "text": "/content/kaggle\n"
        }
      ]
    },
    {
      "cell_type": "code",
      "source": [
        "!git clone https://github.com/ultralytics/yolov5  # clone repo"
      ],
      "metadata": {
        "colab": {
          "base_uri": "https://localhost:8080/"
        },
        "id": "EXpTGQKzBAtm",
        "outputId": "e5407101-8f12-41b3-f0db-97c445bac528"
      },
      "execution_count": null,
      "outputs": [
        {
          "output_type": "stream",
          "name": "stdout",
          "text": "/content/kaggle\n\nfatal: destination path 'yolov5' already exists and is not an empty directory.\n"
        }
      ]
    },
    {
      "cell_type": "code",
      "source": [
        "%cd yolov5"
      ],
      "metadata": {
        "colab": {
          "base_uri": "https://localhost:8080/"
        },
        "id": "WE-VukGe9jJa",
        "outputId": "8c50afc2-e185-4d19-f67d-e3416457d2db"
      },
      "execution_count": null,
      "outputs": [
        {
          "output_type": "stream",
          "name": "stdout",
          "text": "/content/kaggle/yolov5\n"
        }
      ]
    },
    {
      "cell_type": "code",
      "source": [
        "!pip install -r requirements.txt"
      ],
      "metadata": {
        "id": "i_e8Y-zl9zgA"
      },
      "execution_count": null,
      "outputs": []
    },
    {
      "cell_type": "markdown",
      "source": [
        "#### **Convert** labels(.csv) to labels(.txt) for Yolov5 standard"
      ],
      "metadata": {
        "id": "vC_BmqaLA1Wz"
      }
    },
    {
      "cell_type": "code",
      "source": [
        "import pandas as pd\n",
        "import os"
      ],
      "metadata": {
        "id": "ALcKIDjhBJeg"
      },
      "execution_count": null,
      "outputs": []
    },
    {
      "cell_type": "code",
      "source": [
        "image_width = 480\n",
        "image_height = 300\n",
        "\n",
        "# Replace 'path_to_your_csv.csv' with the actual path to your CSV file\n",
        "csv_path = '/content/kaggle/labels_trainval.csv'\n",
        "\n",
        "# Read CSV file into a pandas DataFrame\n",
        "df = pd.read_csv(csv_path)\n",
        "\n",
        "# Create a dictionary to store annotations for each image\n",
        "annotations_dict = {}\n",
        "\n",
        "# Iterate through each row in the DataFrame\n",
        "for index, row in df.iterrows():\n",
        "    frame = row['frame']\n",
        "    class_id = row['class_id']\n",
        "    xmin, xmax, ymin, ymax = row['xmin'], row['xmax'], row['ymin'], row['ymax']\n",
        "\n",
        "    # Calculate YOLO format values\n",
        "    width = (xmax - xmin)/image_width\n",
        "    height = (ymax - ymin)/image_height\n",
        "    x_center = ((xmax + xmin) / 2)/image_width\n",
        "    y_center = ((ymax + ymin) / 2)/image_height\n",
        "\n",
        "    # Create or append to the annotations for the image\n",
        "    if frame not in annotations_dict:\n",
        "        annotations_dict[frame] = []\n",
        "    annotations_dict[frame].append(f\"{class_id} {x_center} {y_center} {width} {height}\")\n",
        "\n",
        "# Define the output folder for YOLO format files\n",
        "output_folder = '/content/kaggle/labels'\n",
        "os.makedirs(output_folder, exist_ok=True)\n",
        "\n",
        "# Write YOLO format files\n",
        "count_txt_val = 0\n",
        "for frame, annotations in annotations_dict.items():\n",
        "    output_path = os.path.join(output_folder, os.path.splitext(frame)[0] + '.txt')\n",
        "    count_txt_val+=1\n",
        "    with open(output_path, 'w') as file:\n",
        "        for annotation in annotations:\n",
        "            file.write(annotation + '\\n')\n",
        "\n",
        "print(\"Conversion complete.\")\n",
        "print(count_txt_val)"
      ],
      "metadata": {
        "colab": {
          "base_uri": "https://localhost:8080/"
        },
        "id": "91iz1LI_A6WU",
        "outputId": "0ab962a2-901f-463f-d229-45e159b82af2"
      },
      "execution_count": null,
      "outputs": [
        {
          "output_type": "stream",
          "name": "stdout",
          "text": "Conversion complete.\n\n22241\n"
        }
      ]
    },
    {
      "cell_type": "code",
      "source": [
        "# count total Image dataset and check with number of txt file\n",
        "import glob\n",
        "\n",
        "# Path to the directory containing images\n",
        "image_folder = '/content/kaggle/images'\n",
        "\n",
        "# Using glob to find all files with the .jpg extension\n",
        "jpg_files = glob.glob(image_folder + '/*.jpg')\n",
        "\n",
        "# Counting the number of files with the .jpg extension\n",
        "num_jpg_files = len(jpg_files)\n",
        "\n",
        "print(f\"Number of files with the .jpg extension: {num_jpg_files}\")\n",
        "\n",
        "if count_txt_val==num_jpg_files:\n",
        "  print(\"number of images and labels is equal\")\n",
        "else:\n",
        "  print (\"number of images and labels is'nt equal\")"
      ],
      "metadata": {
        "colab": {
          "base_uri": "https://localhost:8080/"
        },
        "id": "jIZYxjAACkgZ",
        "outputId": "e2a9a737-cd7c-4220-d7f9-9a6cd4c2b2c1"
      },
      "execution_count": null,
      "outputs": [
        {
          "output_type": "stream",
          "name": "stdout",
          "text": "Number of files with the .jpg extension: 22241\n\nnumber of images and labels is equal\n"
        }
      ]
    },
    {
      "cell_type": "markdown",
      "source": [
        "### make foldering dataset for yolov5 standard"
      ],
      "metadata": {
        "id": "lkoWf5v-Dxh7"
      }
    },
    {
      "cell_type": "code",
      "source": [
        "import os\n",
        "import random\n",
        "from concurrent.futures import ProcessPoolExecutor\n",
        "\n",
        "# Define paths\n",
        "images_folder = '/content/kaggle/images'\n",
        "labels_folder = '/content/kaggle/labels'\n",
        "train_folder = '/content/kaggle/yolov5/data/images/train/'\n",
        "validation_folder = '/content/kaggle/yolov5/data/images/validation/'\n",
        "\n",
        "# Get lists of images and labels\n",
        "images = os.listdir(images_folder)\n",
        "labels = os.listdir(labels_folder)\n",
        "\n",
        "# Split images and labels into train and validation sets\n",
        "split_ratio = 0.8\n",
        "images_to_train = [image for image in images if random.random() < split_ratio]\n",
        "images_to_validate = list(set(images) - set(images_to_train))\n",
        "labels_to_train = [label for label in labels if label.split('.')[0] in images_to_train]  # Match labels to images\n",
        "labels_to_validate = list(set(labels) - set(labels_to_train))\n",
        "\n",
        "# Make sure destination folders exist\n",
        "for folder in [train_folder, validation_folder]:\n",
        "  os.makedirs(os.path.join(folder, 'images'), exist_ok=True)\n",
        "  os.makedirs(os.path.join(folder, 'labels'), exist_ok=True)\n",
        "\n",
        "# Define a function to copy a single image and label pair\n",
        "def copy_file(source_image, source_label, destination_images, destination_labels):\n",
        "  shutil.copyfile(os.path.join(images_folder, source_image), os.path.join(destination_images, source_image))\n",
        "  shutil.copyfile(os.path.join(labels_folder, source_label), os.path.join(destination_labels, source_label))\n",
        "\n",
        "# Use multiprocessing to copy files in parallel\n",
        "with ProcessPoolExecutor() as executor:\n",
        "  tasks = []\n",
        "\n",
        "  # Prepare tasks for train set\n",
        "  for image in images_to_train:\n",
        "    label = image.replace('.jpg', '.txt')\n",
        "    tasks.append(executor.submit(copy_file, image, label, os.path.join(train_folder, 'images'), os.path.join(train_folder, 'labels')))\n",
        "\n",
        "  # Prepare tasks for validation set\n",
        "  for image in images_to_validate:\n",
        "    label = image.replace('.jpg', '.txt')\n",
        "    tasks.append(executor.submit(copy_file, image, label, os.path.join(validation_folder, 'images'), os.path.join(validation_folder, 'labels')))\n",
        "\n",
        "  # Wait for all tasks to finish\n",
        "  for future in tasks:\n",
        "    future.result()\n",
        "\n",
        "print(\"File copying completed!\")\n"
      ],
      "metadata": {
        "id": "SZ9Kt5QJSIcN",
        "colab": {
          "base_uri": "https://localhost:8080/"
        },
        "outputId": "2d44e319-0e3e-4b18-80ab-08e97aa429f7"
      },
      "execution_count": null,
      "outputs": [
        {
          "output_type": "stream",
          "name": "stdout",
          "text": "File copying completed!\n"
        }
      ]
    },
    {
      "cell_type": "code",
      "source": [
        "# count number of file to thease destination:\n",
        "\n",
        "# train_folder = '/content/gdrive/MyDrive/kaggle/yolov5/data/images/train/'\n",
        "# validation_folder = '/content/gdrive/MyDrive/kaggle/yolov5/data/images/validation/'\n",
        "\n",
        "# Count number of files in train and validation folders\n",
        "num_train_images = len(os.listdir(os.path.join(train_folder, 'images')))\n",
        "num_train_labels = len(os.listdir(os.path.join(train_folder, 'labels')))\n",
        "num_validation_images = len(os.listdir(os.path.join(validation_folder, 'images')))\n",
        "num_validation_labels = len(os.listdir(os.path.join(validation_folder, 'labels')))\n",
        "\n",
        "# Print the counts\n",
        "print(f\"Number of training images: {num_train_images}\")\n",
        "print(f\"Number of training labels: {num_train_labels}\")\n",
        "print(f\"Number of validation images: {num_validation_images}\")\n",
        "print(f\"Number of validation labels: {num_validation_labels}\")\n"
      ],
      "metadata": {
        "id": "83InDGqefi1U",
        "colab": {
          "base_uri": "https://localhost:8080/"
        },
        "outputId": "a31d7e57-5d4e-4823-8eeb-13cbbd67e91f"
      },
      "execution_count": null,
      "outputs": [
        {
          "output_type": "stream",
          "name": "stdout",
          "text": "Number of training images: 17746\n\nNumber of training labels: 17746\n\nNumber of validation images: 4495\n\nNumber of validation labels: 4495\n"
        }
      ]
    },
    {
      "cell_type": "code",
      "source": [
        "# check randomly in train and validation folders, that copied the same name of \".jpg\" and \".txt\" file to the same folder\n",
        "\n",
        "import random\n",
        "\n",
        "# Define the folders to check\n",
        "train_images_folder = '/content/kaggle/yolov5/data/images/train/images'\n",
        "train_labels_folder = '/content/kaggle/yolov5/data/images/train/labels'\n",
        "validation_images_folder = '/content/kaggle/yolov5/data/images/validation/images'\n",
        "validation_labels_folder = '/content/kaggle/yolov5/data/images/validation/labels'\n",
        "\n",
        "# Get lists of files in each folder\n",
        "train_images = os.listdir(train_images_folder)\n",
        "train_labels = os.listdir(train_labels_folder)\n",
        "validation_images = os.listdir(validation_images_folder)\n",
        "validation_labels = os.listdir(validation_labels_folder)\n",
        "\n",
        "# Check 10 random files in train folder\n",
        "for _ in range(10):\n",
        "  # Choose a random image\n",
        "  image_index = random.randint(0, len(train_images) - 1)\n",
        "  image_filename = train_images[image_index]\n",
        "\n",
        "  # Check if the corresponding label file exists\n",
        "  label_filename = image_filename.replace('.jpg', '.txt')\n",
        "  assert label_filename in train_labels, f\"Missing label file for image: {image_filename}\"\n",
        "\n",
        "# Check 10 random files in validation folder\n",
        "for _ in range(10):\n",
        "  # Choose a random image\n",
        "  image_index = random.randint(0, len(validation_images) - 1)\n",
        "  image_filename = validation_images[image_index]\n",
        "\n",
        "  # Check if the corresponding label file exists\n",
        "  label_filename = image_filename.replace('.jpg', '.txt')\n",
        "  assert label_filename in validation_labels, f\"Missing label file for image: {image_filename}\"\n",
        "\n",
        "print(\"Random checks passed. It seems that the files have been copied correctly.\")\n"
      ],
      "metadata": {
        "id": "WQ2Wo7NtgDv-",
        "colab": {
          "base_uri": "https://localhost:8080/"
        },
        "outputId": "41b77a4e-8632-450e-bda4-9a1bf813b558"
      },
      "execution_count": null,
      "outputs": [
        {
          "output_type": "stream",
          "name": "stdout",
          "text": "Random checks passed. It seems that the files have been copied correctly.\n"
        }
      ]
    },
    {
      "cell_type": "markdown",
      "source": [
        "## Par1 - Use pre-trained Yolov5"
      ],
      "metadata": {
        "id": "rwa9kCZ--Kqh"
      }
    },
    {
      "cell_type": "code",
      "source": [
        "!python detect.py --weights yolov5m.pt --conf-thres 0.5 --line-thickness 2 --source \"/content/kaggle/images/1478019955679801306.jpg\""
      ],
      "metadata": {
        "id": "cH5coZXa-Mtx"
      },
      "execution_count": null,
      "outputs": []
    },
    {
      "cell_type": "code",
      "source": [
        "Image('/content/kaggle/yolov5/runs/detect/exp/1478019955679801306.jpg')"
      ],
      "metadata": {
        "id": "TSeAJCK2_rJv",
        "colab": {
          "base_uri": "https://localhost:8080/",
          "height": 317
        },
        "outputId": "1b7cd18b-b161-41e4-9b39-13d2b685021c"
      },
      "execution_count": null,
      "outputs": [
        {
          "output_type": "execute_result",
          "execution_count": 107,
          "data": {
            "image/jpeg": "[encoded data removed]",
            "text/plain": [
              "<IPython.core.display.Image object>"
            ]
          },
          "metadata": {}
        }
      ]
    },
    {
      "cell_type": "code",
      "source": [
        "!python detect.py --weights yolov5m.pt --conf-thres 0.5 --line-thickness 2 --source \"/content/kaggle/images/1478020427201770556.jpg\""
      ],
      "metadata": {
        "id": "dz4f3hXm6V6D"
      },
      "execution_count": null,
      "outputs": []
    },
    {
      "cell_type": "code",
      "source": [
        "\n",
        "Image('/content/kaggle/yolov5/runs/detect/exp4/1478020427201770556.jpg')"
      ],
      "metadata": {
        "colab": {
          "base_uri": "https://localhost:8080/",
          "height": 317
        },
        "outputId": "f920716e-9d37-4535-c68d-946134af7018",
        "id": "SgpgQ4kl6WW1"
      },
      "execution_count": null,
      "outputs": [
        {
          "output_type": "execute_result",
          "execution_count": 111,
          "data": {
            "image/jpeg": "[encoded data removed]",
            "text/plain": [
              "<IPython.core.display.Image object>"
            ]
          },
          "metadata": {}
        }
      ]
    },
    {
      "cell_type": "markdown",
      "source": [
        "## Part 2\n"
      ],
      "metadata": {
        "id": "jkUU7TkCD__6"
      }
    },
    {
      "cell_type": "markdown",
      "source": [
        "#### Make dataset.yml file for yolov5"
      ],
      "metadata": {
        "id": "hUsQ6dntIhjT"
      }
    },
    {
      "cell_type": "code",
      "source": [
        "import os\n",
        "\n",
        "# Define paths\n",
        "output_folder = '/content/kaggle/yolov5/data'\n",
        "\n",
        "# Create dataset.yaml content\n",
        "dataset_yaml_content = \"\"\"\n",
        "# train and val and test data\n",
        "train: /content/kaggle/yolov5/data/images/train/\n",
        "val: /content/kaggle/yolov5/data/images/validation/\n",
        "test: /content/kaggle/yolov5/data/images/test/\n",
        "\n",
        "# number of classes\n",
        "nc: 6\n",
        "\n",
        "# Class name\n",
        "names: [ 'nothing' , 'car', 'truck', 'pedestrian', 'bicyclist', 'light']\n",
        "\"\"\"\n",
        "\n",
        "# Save dataset.yaml file\n",
        "os.makedirs(output_folder, exist_ok=True)\n",
        "with open(os.path.join(output_folder, 'dataset.yaml'), 'w') as f:\n",
        "    f.write(dataset_yaml_content)\n",
        "\n",
        "print(\"dataset.yaml file created successfully.\")"
      ],
      "metadata": {
        "colab": {
          "base_uri": "https://localhost:8080/"
        },
        "id": "lPsmv2UOIfIa",
        "outputId": "58276d31-1a80-48b4-defd-181743a5c5cb"
      },
      "execution_count": null,
      "outputs": [
        {
          "output_type": "stream",
          "name": "stdout",
          "text": "dataset.yaml file created successfully.\n"
        }
      ]
    },
    {
      "cell_type": "code",
      "source": [
        "!python train.py --img 480 --batch 16 --epochs 20 --data dataset.yaml --weights yolov5s.pt --cache"
      ],
      "metadata": {
        "id": "fgF-QwNWIeh6"
      },
      "execution_count": null,
      "outputs": []
    },
    {
      "cell_type": "code",
      "source": [
        "# prompt: copy a folder from direction to another direction with shutil . if folder exist, then replace it updated folder\n",
        "\n",
        "import shutil\n",
        "\n",
        "# Define source and destination paths\n",
        "source_folder = '/content/kaggle/yolov5/runs/train'\n",
        "destination_folder = '/content/gdrive/MyDrive/kaggle/yolov5_train_results/runs/train/'\n",
        "\n",
        "# Check if destination folder exists\n",
        "if os.path.exists(destination_folder):\n",
        "  # Remove the existing destination folder\n",
        "  shutil.rmtree(destination_folder)\n",
        "\n",
        "# Copy the source folder to the destination\n",
        "shutil.copytree(source_folder, destination_folder)\n",
        "\n",
        "print(\"Folder copied successfully.\")\n"
      ],
      "metadata": {
        "colab": {
          "base_uri": "https://localhost:8080/"
        },
        "id": "VOGteZPYWShl",
        "outputId": "8154a3f9-dee4-43d6-d2da-f11997063dcc"
      },
      "execution_count": null,
      "outputs": [
        {
          "output_type": "stream",
          "name": "stdout",
          "text": "Folder copied successfully.\n"
        }
      ]
    },
    {
      "cell_type": "code",
      "source": [
        "# prompt: using thepast cell python code(imgshow(os.path.join(ROOT_DIR,'/content/kaggle/yolov8/ultralytics/runs/detect/train3/train_batch0.jpg'), width = 600)). display all image (jpg and png)\n",
        "\n",
        "import os\n",
        "from IPython.display import Image, display\n",
        "\n",
        "# Get a list of all files in the directory\n",
        "files = os.listdir('/content/kaggle/yolov5/runs/train/exp')\n",
        "\n",
        "# Filter the list to only include JPG and PNG files\n",
        "image_files = [file for file in files if file.endswith('.jpg') or file.endswith('.png')]\n",
        "\n",
        "# Display each image\n",
        "for image_file in image_files:\n",
        "    display(Image(filename=os.path.join('/content/kaggle/yolov5/runs/train/exp', image_file)))\n",
        "\n"
      ],
      "metadata": {
        "id": "29sCj149q5WL"
      },
      "execution_count": null,
      "outputs": []
    },
    {
      "cell_type": "code",
      "source": [],
      "metadata": {
        "id": "71266tQUI5jk"
      },
      "execution_count": null,
      "outputs": []
    },
    {
      "cell_type": "code",
      "source": [
        "!python train.py --img 480 --batch 16 --epochs 20 --data dataset.yaml --weights yolov5m.pt --cache"
      ],
      "metadata": {
        "id": "BuegCXvoSAvS"
      },
      "execution_count": null,
      "outputs": []
    },
    {
      "cell_type": "code",
      "source": [
        "# prompt: copy a folder from direction to another direction with shutil . if folder exist, then replace it updated folder\n",
        "\n",
        "import shutil\n",
        "\n",
        "# Define source and destination paths\n",
        "source_folder = '/content/kaggle/yolov5/runs/train'\n",
        "destination_folder = '/content/gdrive/MyDrive/kaggle/yolov5_train_results/runs/train/'\n",
        "\n",
        "# Check if destination folder exists\n",
        "if os.path.exists(destination_folder):\n",
        "  # Remove the existing destination folder\n",
        "  shutil.rmtree(destination_folder)\n",
        "\n",
        "# Copy the source folder to the destination\n",
        "shutil.copytree(source_folder, destination_folder)\n",
        "\n",
        "print(\"Folder copied successfully.\")\n"
      ],
      "metadata": {
        "colab": {
          "base_uri": "https://localhost:8080/"
        },
        "id": "rfftXNgAXtTV",
        "outputId": "b1a5c820-d1e8-472e-dc45-928c24d56189"
      },
      "execution_count": null,
      "outputs": [
        {
          "output_type": "stream",
          "name": "stdout",
          "text": "Folder copied successfully.\n"
        }
      ]
    },
    {
      "cell_type": "code",
      "source": [
        "# prompt: using thepast cell python code(imgshow(os.path.join(ROOT_DIR,'/content/kaggle/yolov8/ultralytics/runs/detect/train3/train_batch0.jpg'), width = 600)). display all image (jpg and png)\n",
        "\n",
        "import os\n",
        "from IPython.display import Image, display\n",
        "\n",
        "# Get a list of all files in the directory\n",
        "files = os.listdir('/content/kaggle/yolov5/runs/train/exp2')\n",
        "\n",
        "# Filter the list to only include JPG and PNG files\n",
        "image_files = [file for file in files if file.endswith('.jpg') or file.endswith('.png')]\n",
        "\n",
        "# Display each image\n",
        "for image_file in image_files:\n",
        "    display(Image(filename=os.path.join('/content/kaggle/yolov5/runs/train/exp2', image_file)))\n",
        "\n"
      ],
      "metadata": {
        "id": "7-w6pj4cq_XV"
      },
      "execution_count": null,
      "outputs": []
    },
    {
      "cell_type": "code",
      "source": [],
      "metadata": {
        "id": "N_MudJGKpjui"
      },
      "execution_count": null,
      "outputs": []
    },
    {
      "cell_type": "markdown",
      "source": [
        "# yolov8"
      ],
      "metadata": {
        "id": "En8_c_u5tGH2"
      }
    },
    {
      "cell_type": "code",
      "source": [
        "# make a folder with name of \"yolov8\" in this direction '/content/kaggle/'\n",
        "\n",
        "!mkdir /content/kaggle/yolov8\n"
      ],
      "metadata": {
        "id": "McROTMECdIR-"
      },
      "execution_count": null,
      "outputs": []
    },
    {
      "cell_type": "code",
      "source": [
        "ROOT_DIR = '/content/kaggle/yolov8'"
      ],
      "metadata": {
        "id": "dPRFrO_npjrE"
      },
      "execution_count": null,
      "outputs": []
    },
    {
      "cell_type": "code",
      "source": [
        "%cd {ROOT_DIR}"
      ],
      "metadata": {
        "colab": {
          "base_uri": "https://localhost:8080/"
        },
        "id": "9JEi8Apopji3",
        "outputId": "b51798d6-7793-40ed-ec45-2c8444c35feb"
      },
      "execution_count": null,
      "outputs": [
        {
          "output_type": "stream",
          "name": "stdout",
          "text": "/content/kaggle/yolov8\n"
        }
      ]
    },
    {
      "cell_type": "code",
      "source": [
        "!git clone https://github.com/ultralytics/ultralytics.git"
      ],
      "metadata": {
        "id": "4KZOFIrLtgFE"
      },
      "execution_count": null,
      "outputs": []
    },
    {
      "cell_type": "code",
      "source": [
        "%ls"
      ],
      "metadata": {
        "colab": {
          "base_uri": "https://localhost:8080/"
        },
        "id": "wfXA_cIztgCO",
        "outputId": "63e2b37f-1a73-441d-eb88-35b7317aab20"
      },
      "execution_count": null,
      "outputs": [
        {
          "output_type": "stream",
          "name": "stdout",
          "text": "\u001b[0m\u001b[01;34multralytics\u001b[0m/\n"
        }
      ]
    },
    {
      "cell_type": "code",
      "source": [
        "%cd ultralytics"
      ],
      "metadata": {
        "colab": {
          "base_uri": "https://localhost:8080/"
        },
        "id": "7KgDkY4DtnTC",
        "outputId": "1797e740-a556-402c-f45c-58eba477568d"
      },
      "execution_count": null,
      "outputs": [
        {
          "output_type": "stream",
          "name": "stdout",
          "text": "/content/kaggle/yolov8/ultralytics\n"
        }
      ]
    },
    {
      "cell_type": "code",
      "source": [
        "!pip install -r requirements.txt"
      ],
      "metadata": {
        "colab": {
          "base_uri": "https://localhost:8080/"
        },
        "id": "XlaElqBwtnP6",
        "outputId": "22101a9b-b041-4d83-f863-70d65b933fdd"
      },
      "execution_count": null,
      "outputs": [
        {
          "output_type": "stream",
          "name": "stdout",
          "text": "\u001b[31mERROR: Could not open requirements file: [Errno 2] No such file or directory: 'requirements.txt'\u001b[0m\u001b[31m\n\n\u001b[0m"
        }
      ]
    },
    {
      "cell_type": "code",
      "source": [
        "!pip install ultralytics\n"
      ],
      "metadata": {
        "id": "pG0BPcG7tnML"
      },
      "execution_count": null,
      "outputs": []
    },
    {
      "cell_type": "code",
      "source": [
        "%cd {ROOT_DIR}"
      ],
      "metadata": {
        "colab": {
          "base_uri": "https://localhost:8080/"
        },
        "id": "IA272BjBvDmY",
        "outputId": "39fd6349-270d-4057-83a8-4e4ee9f497aa"
      },
      "execution_count": null,
      "outputs": [
        {
          "output_type": "stream",
          "name": "stdout",
          "text": "/content/kaggle\n"
        }
      ]
    },
    {
      "cell_type": "code",
      "source": [
        "!pip install Ipython"
      ],
      "metadata": {
        "id": "Dh3Qw6vVvGHu"
      },
      "execution_count": null,
      "outputs": []
    },
    {
      "cell_type": "code",
      "source": [
        "import matplotlib.pyplot as plt\n",
        "from IPython.display import Image as imgshow\n",
        "import os"
      ],
      "metadata": {
        "id": "9kyYe3t-vI_J"
      },
      "execution_count": null,
      "outputs": []
    },
    {
      "cell_type": "code",
      "source": [],
      "metadata": {
        "id": "GNTipG-BgBRx"
      },
      "execution_count": null,
      "outputs": []
    },
    {
      "cell_type": "markdown",
      "source": [
        "### make foldering dataset for yolov8 standard"
      ],
      "metadata": {
        "id": "bzEiKFS8gCGU"
      }
    },
    {
      "cell_type": "code",
      "source": [
        "import os\n",
        "import random\n",
        "from concurrent.futures import ProcessPoolExecutor\n",
        "\n",
        "# Define paths\n",
        "images_folder = '/content/kaggle/images'\n",
        "labels_folder = '/content/kaggle/labels'\n",
        "train_folder = '/content/kaggle/yolov8/ultralytics/data/images/train/'\n",
        "validation_folder = '/content/kaggle/yolov8/ultralytics/data/images/validation/'\n",
        "\n",
        "# Get lists of images and labels\n",
        "images = os.listdir(images_folder)\n",
        "labels = os.listdir(labels_folder)\n",
        "\n",
        "# Split images and labels into train and validation sets\n",
        "split_ratio = 0.8\n",
        "images_to_train = [image for image in images if random.random() < split_ratio]\n",
        "images_to_validate = list(set(images) - set(images_to_train))\n",
        "labels_to_train = [label for label in labels if label.split('.')[0] in images_to_train]  # Match labels to images\n",
        "labels_to_validate = list(set(labels) - set(labels_to_train))\n",
        "\n",
        "# Make sure destination folders exist\n",
        "for folder in [train_folder, validation_folder]:\n",
        "  os.makedirs(os.path.join(folder, 'images'), exist_ok=True)\n",
        "  os.makedirs(os.path.join(folder, 'labels'), exist_ok=True)\n",
        "\n",
        "# Define a function to copy a single image and label pair\n",
        "def copy_file(source_image, source_label, destination_images, destination_labels):\n",
        "  shutil.copyfile(os.path.join(images_folder, source_image), os.path.join(destination_images, source_image))\n",
        "  shutil.copyfile(os.path.join(labels_folder, source_label), os.path.join(destination_labels, source_label))\n",
        "\n",
        "# Use multiprocessing to copy files in parallel\n",
        "with ProcessPoolExecutor() as executor:\n",
        "  tasks = []\n",
        "\n",
        "  # Prepare tasks for train set\n",
        "  for image in images_to_train:\n",
        "    label = image.replace('.jpg', '.txt')\n",
        "    tasks.append(executor.submit(copy_file, image, label, os.path.join(train_folder, 'images'), os.path.join(train_folder, 'labels')))\n",
        "\n",
        "  # Prepare tasks for validation set\n",
        "  for image in images_to_validate:\n",
        "    label = image.replace('.jpg', '.txt')\n",
        "    tasks.append(executor.submit(copy_file, image, label, os.path.join(validation_folder, 'images'), os.path.join(validation_folder, 'labels')))\n",
        "\n",
        "  # Wait for all tasks to finish\n",
        "  for future in tasks:\n",
        "    future.result()\n",
        "\n",
        "print(\"File copying completed!\")\n"
      ],
      "metadata": {
        "colab": {
          "base_uri": "https://localhost:8080/"
        },
        "outputId": "6b3e7914-e0ae-447b-9c1f-cf133ca662f0",
        "id": "NwIkmmEEgCGU"
      },
      "execution_count": null,
      "outputs": [
        {
          "output_type": "stream",
          "name": "stdout",
          "text": "File copying completed!\n"
        }
      ]
    },
    {
      "cell_type": "markdown",
      "source": [
        "#### Make dataset.yml file for yolov8"
      ],
      "metadata": {
        "id": "0RSBQWDuiKGd"
      }
    },
    {
      "cell_type": "code",
      "source": [
        "import os\n",
        "\n",
        "# Define paths\n",
        "output_folder = '/content/kaggle/yolov8/ultralytics/data'\n",
        "\n",
        "# Create dataset.yaml content\n",
        "dataset_yaml_content = \"\"\"\n",
        "# train and val and test data\n",
        "train: /content/kaggle/yolov8/ultralytics/data/images/train/\n",
        "val: /content/kaggle/yolov8/ultralytics/data/images/validation/\n",
        "test: /content/kaggle/yolov8/ultralytics/data/images/test/\n",
        "\n",
        "# number of classes\n",
        "nc: 6\n",
        "\n",
        "# Class name\n",
        "names: [ 'nothing' , 'car', 'truck', 'pedestrian', 'bicyclist', 'light']\n",
        "\"\"\"\n",
        "\n",
        "# Save dataset.yaml file\n",
        "os.makedirs(output_folder, exist_ok=True)\n",
        "with open(os.path.join(output_folder, 'dataset.yaml'), 'w') as f:\n",
        "    f.write(dataset_yaml_content)\n",
        "\n",
        "print(\"dataset.yaml file created successfully.\")"
      ],
      "metadata": {
        "colab": {
          "base_uri": "https://localhost:8080/"
        },
        "outputId": "024e7d63-4142-4a14-fbfb-df01bc19f72f",
        "id": "TIc5cGlgiKGd"
      },
      "execution_count": null,
      "outputs": [
        {
          "output_type": "stream",
          "name": "stdout",
          "text": "dataset.yaml file created successfully.\n"
        }
      ]
    },
    {
      "cell_type": "markdown",
      "source": [
        "### Object detection"
      ],
      "metadata": {
        "id": "C2mPU4hvY_3D"
      }
    },
    {
      "cell_type": "code",
      "source": [
        "!yolo task=detect mode=train model=yolov8s.pt data=/content/kaggle/yolov8/ultralytics/data/dataset.yaml epochs=20 imgsz=480"
      ],
      "metadata": {
        "id": "W_Uxxp6ztnGT"
      },
      "execution_count": null,
      "outputs": []
    },
    {
      "cell_type": "code",
      "source": [
        "# prompt: copy a folder from direction to another direction with shutil . if folder exist, then replace it updated folder\n",
        "\n",
        "import shutil\n",
        "\n",
        "# Define source and destination paths\n",
        "source_folder = '/content/kaggle/yolov8/ultralytics/runs/detect'\n",
        "destination_folder = '/content/gdrive/MyDrive/kaggle/yolov8_train_results/runs/detect/'\n",
        "\n",
        "# Check if destination folder exists\n",
        "if os.path.exists(destination_folder):\n",
        "  # Remove the existing destination folder\n",
        "  shutil.rmtree(destination_folder)\n",
        "\n",
        "# Copy the source folder to the destination\n",
        "shutil.copytree(source_folder, destination_folder)\n",
        "\n",
        "print(\"Folder copied successfully.\")\n"
      ],
      "metadata": {
        "colab": {
          "base_uri": "https://localhost:8080/"
        },
        "outputId": "c9814ce6-5bed-43ed-dbc1-d5cd24aa023b",
        "id": "xy0ChqA7l7GO"
      },
      "execution_count": null,
      "outputs": [
        {
          "output_type": "stream",
          "name": "stdout",
          "text": "Folder copied successfully.\n"
        }
      ]
    },
    {
      "cell_type": "code",
      "source": [
        "%load_ext tensorboard\n",
        "%tensorboard --logdir runs"
      ],
      "metadata": {
        "id": "JDW801hyqo0P"
      },
      "execution_count": null,
      "outputs": []
    },
    {
      "cell_type": "code",
      "source": [
        "# prompt: using thepast cell python code(imgshow(os.path.join(ROOT_DIR,'/content/kaggle/yolov8/ultralytics/runs/detect/train3/train_batch0.jpg'), width = 600)). display all image (jpg and png)\n",
        "\n",
        "import os\n",
        "from IPython.display import Image, display\n",
        "\n",
        "# Get a list of all files in the directory\n",
        "files = os.listdir('/content/kaggle/yolov8/ultralytics/runs/detect/train3/')\n",
        "\n",
        "# Filter the list to only include JPG and PNG files\n",
        "image_files = [file for file in files if file.endswith('.jpg') or file.endswith('.png')]\n",
        "\n",
        "# Display each image\n",
        "for image_file in image_files:\n",
        "    display(Image(filename=os.path.join('/content/kaggle/yolov8/ultralytics/runs/detect/train3/', image_file)))\n",
        "\n"
      ],
      "metadata": {
        "id": "wOzNpBS901Cz"
      },
      "execution_count": null,
      "outputs": []
    }
  ]
}